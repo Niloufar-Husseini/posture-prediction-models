{
 "cells": [
  {
   "cell_type": "code",
   "execution_count": 1,
   "id": "55fcc972",
   "metadata": {},
   "outputs": [],
   "source": [
    "import pandas as pd\n",
    "import os"
   ]
  },
  {
   "cell_type": "code",
   "execution_count": 2,
   "id": "a81ca3b2",
   "metadata": {},
   "outputs": [],
   "source": [
    "def reorder_columns(input_add):\n",
    "    df = pd.read_csv(input_add, skiprows=2)\n",
    "    df.drop(columns=[ 'Unnamed: 137'], inplace=True)\n",
    "\n",
    "    # name of the markers\n",
    "    marker_names = [\n",
    "    \"Subj1:LFHD\", \"Subj1:RFHD\", \"Subj1:LBHD\", \"Subj1:RBHD\", \"Subj1:C7\", \"Subj1:T10\", \n",
    "    \"Subj1:CLAV\", \"Subj1:STRN\", \"Subj1:RBAK\", \"Subj1:LSHO\", \"Subj1:LUPA\", \"Subj1:LELB\", \n",
    "    \"Subj1:LFRM\", \"Subj1:LWRA\", \"Subj1:LWRB\", \"Subj1:LFIN\", \"Subj1:RSHO\", \"Subj1:RUPA\", \n",
    "    \"Subj1:RELB\", \"Subj1:RFRM\", \"Subj1:RWRA\", \"Subj1:RWRB\", \"Subj1:RFIN\", \"Subj1:LASI\", \n",
    "    \"Subj1:RASI\", \"Subj1:LPSI\", \"Subj1:RPSI\", \"Subj1:LTHI\", \"Subj1:LKNE\", \"Subj1:LTIB\", \n",
    "    \"Subj1:LANK\", \"Subj1:LHEE\", \"Subj1:LTOE\", \"Subj1:RTHI\", \"Subj1:RKNE\", \"Subj1:RTIB\", \n",
    "    \"Subj1:RANK\", \"Subj1:RHEE\", \"Subj1:RTOE\", \"Subj1:LHU\", \"Subj1:LHD\", \"Subj1:RHU\", \n",
    "    \"Subj1:RHD\", \"Subj1:T12\", \"Subj1:S1\"\n",
    "    ]\n",
    "\n",
    "    new_col_names = [f\"{marker_name}_{coord}\" for marker_name in marker_names for coord in [\"X\", \"Y\", \"Z\"]]\n",
    "\n",
    "    df.columns = [\"Unnamed: 0\", \"Unnamed: 1\",] + new_col_names\n",
    "    \n",
    "    # concatenate the columns in the order you want\n",
    "    df1 = df.iloc[:, 0:29]\n",
    "    df2 = df.iloc[:, 131:137]\n",
    "    df3 = df.iloc[:, 29:119]  \n",
    "\n",
    "    df_new = pd.concat([df1, df2, df3], axis=1)\n",
    "\n",
    "    \n",
    "\n",
    "    return df_new  \n"
   ]
  },
  {
   "cell_type": "code",
   "execution_count": 3,
   "id": "baaf70b8",
   "metadata": {},
   "outputs": [],
   "source": [
    "path_to_folder = r\"C:\\Niloofar\\SCR\\posture-prediction-models-main\\external_data_processing\\raw data\\s8\"\n",
    "path_to_processed = r\"C:\\Niloofar\\SCR\\posture-prediction-models-main\\external_data_processing\\raw data\\s8\\processed\"\n",
    "os.mkdir(path_to_processed)"
   ]
  },
  {
   "cell_type": "code",
   "execution_count": 4,
   "id": "a52d359d",
   "metadata": {},
   "outputs": [
    {
     "name": "stderr",
     "output_type": "stream",
     "text": [
      "C:\\Users\\Remote\\AppData\\Local\\Temp\\ipykernel_6052\\2649448255.py:2: DtypeWarning: Columns (0,1,2,3,4,5,6,7,8,9,10,11,12,13,14,15,16,17,18,19,20,21,22,23,24,25,26,27,28,29,30,31,32,33,34,35,36,37,38,39,40,41,42,43,44,45,46,47,48,49,50,51,52,53,54,55,56,57,58,59,60,61,62,63,64,65,66,67,68,69,70,71,72,73,74,75,76,77,78,79,80,81,82,83,84,85,86,87,88,89,90,91,92,93,94,95,96,97,98,99,100,101,102,103,104,105,106,107,108,109,110,111,112,113,114,115,116,117,118,119,120,121,122,123,124,125,126,127,128,129,130,131,132,133,134,135,136) have mixed types. Specify dtype option on import or set low_memory=False.\n",
      "  df = pd.read_csv(input_add, skiprows=2)\n",
      "C:\\Users\\Remote\\AppData\\Local\\Temp\\ipykernel_6052\\2649448255.py:2: DtypeWarning: Columns (0,1,2,3,4,5,6,7,8,9,10,11,12,13,14,15,16,17,18,19,20,21,22,23,24,25,26,27,28,29,30,31,32,33,34,35,36,37,38,39,40,41,42,43,44,45,46,47,48,49,50,51,52,53,54,55,56,57,58,59,60,61,62,63,64,65,66,67,68,69,70,71,72,73,74,75,76,77,78,79,80,81,82,83,84,85,86,87,88,89,90,91,92,93,94,95,96,97,98,99,100,101,102,103,104,105,106,107,108,109,110,111,112,113,114,115,116,117,118,119,120,121,122,123,124,125,126,127,128,129,130,131,132,133,134,135,136) have mixed types. Specify dtype option on import or set low_memory=False.\n",
      "  df = pd.read_csv(input_add, skiprows=2)\n",
      "C:\\Users\\Remote\\AppData\\Local\\Temp\\ipykernel_6052\\2649448255.py:2: DtypeWarning: Columns (0,1,2,3,4,5,6,7,8,9,10,11,12,13,14,15,16,17,18,19,20,21,22,23,24,25,26,27,28,29,30,31,32,33,34,35,36,37,38,39,40,41,42,43,44,45,46,47,48,49,50,51,52,53,54,55,56,57,58,59,60,61,62,63,64,65,66,67,68,69,70,71,72,73,74,75,76,77,78,79,80,81,82,83,84,85,86,87,88,89,90,91,92,93,94,95,96,97,98,99,100,101,102,103,104,105,106,107,108,109,110,111,112,113,114,115,116,117,118,119,120,121,122,123,124,125,126,127,128,129,130,131,132,133,134,135,136) have mixed types. Specify dtype option on import or set low_memory=False.\n",
      "  df = pd.read_csv(input_add, skiprows=2)\n",
      "C:\\Users\\Remote\\AppData\\Local\\Temp\\ipykernel_6052\\2649448255.py:2: DtypeWarning: Columns (0,1,2,3,4,5,6,7,8,9,10,11,12,13,14,15,16,17,18,19,20,21,22,23,24,25,26,27,28,29,30,31,32,33,34,35,36,37,38,39,40,41,42,43,44,45,46,47,48,49,50,51,52,53,54,55,56,57,58,59,60,61,62,63,64,65,66,67,68,69,70,71,72,73,74,75,76,77,78,79,80,81,82,83,84,85,86,87,88,89,90,91,92,93,94,95,96,97,98,99,100,101,102,103,104,105,106,107,108,109,110,111,112,113,114,115,116,117,118,119,120,121,122,123,124,125,126,127,128,129,130,131,132,133,134,135,136) have mixed types. Specify dtype option on import or set low_memory=False.\n",
      "  df = pd.read_csv(input_add, skiprows=2)\n",
      "C:\\Users\\Remote\\AppData\\Local\\Temp\\ipykernel_6052\\2649448255.py:2: DtypeWarning: Columns (0,1,2,3,4,5,6,7,8,9,10,11,12,13,14,15,16,17,18,19,20,21,22,23,24,25,26,27,28,29,30,31,32,33,34,35,36,37,38,39,40,41,42,43,44,45,46,47,48,49,50,51,52,53,54,55,56,57,58,59,60,61,62,63,64,65,66,67,68,69,70,71,72,73,74,75,76,77,78,79,80,81,82,83,84,85,86,87,88,89,90,91,92,93,94,95,96,97,98,99,100,101,102,103,104,105,106,107,108,109,110,111,112,113,114,115,116,117,118,119,120,121,122,123,124,125,126,127,128,129,130,131,132,133,134,135,136) have mixed types. Specify dtype option on import or set low_memory=False.\n",
      "  df = pd.read_csv(input_add, skiprows=2)\n",
      "C:\\Users\\Remote\\AppData\\Local\\Temp\\ipykernel_6052\\2649448255.py:2: DtypeWarning: Columns (0,1,2,3,4,5,6,7,8,9,10,11,12,13,14,15,16,17,18,19,20,21,22,23,24,25,26,27,28,29,30,31,32,33,34,35,36,37,38,39,40,41,42,43,44,45,46,47,48,49,50,51,52,53,54,55,56,57,58,59,60,61,62,63,64,65,66,67,68,69,70,71,72,73,74,75,76,77,78,79,80,81,82,83,84,85,86,87,88,89,90,91,92,93,94,95,96,97,98,99,100,101,102,103,104,105,106,107,108,109,110,111,112,113,114,115,116,117,118,119,120,121,122,123,124,125,126,127,128,129,130,131,132,133,134,135,136) have mixed types. Specify dtype option on import or set low_memory=False.\n",
      "  df = pd.read_csv(input_add, skiprows=2)\n",
      "C:\\Users\\Remote\\AppData\\Local\\Temp\\ipykernel_6052\\2649448255.py:2: DtypeWarning: Columns (0,1,2,3,4,5,6,7,8,9,10,11,12,13,14,15,16,17,18,19,20,21,22,23,24,25,26,27,28,29,30,31,32,33,34,35,36,37,38,39,40,41,42,43,44,45,46,47,48,49,50,51,52,53,54,55,56,57,58,59,60,61,62,63,64,65,66,67,68,69,70,71,72,73,74,75,76,77,78,79,80,81,82,83,84,85,86,87,88,89,90,91,92,93,94,95,96,97,98,99,100,101,102,103,104,105,106,107,108,109,110,111,112,113,114,115,116,117,118,119,120,121,122,123,124,125,126,127,128,129,130,131,132,133,134,135,136) have mixed types. Specify dtype option on import or set low_memory=False.\n",
      "  df = pd.read_csv(input_add, skiprows=2)\n",
      "C:\\Users\\Remote\\AppData\\Local\\Temp\\ipykernel_6052\\2649448255.py:2: DtypeWarning: Columns (0,1,2,3,4,5,6,7,8,9,10,11,12,13,14,15,16,17,18,19,20,21,22,23,24,25,26,27,28,29,30,31,32,33,34,35,36,37,38,39,40,41,42,43,44,45,46,47,48,49,50,51,52,53,54,55,56,57,58,59,60,61,62,63,64,65,66,67,68,69,70,71,72,73,74,75,76,77,78,79,80,81,82,83,84,85,86,87,88,89,90,91,92,93,94,95,96,97,98,99,100,101,102,103,104,105,106,107,108,109,110,111,112,113,114,115,116,117,118,119,120,121,122,123,124,125,126,127,128,129,130,131,132,133,134,135,136) have mixed types. Specify dtype option on import or set low_memory=False.\n",
      "  df = pd.read_csv(input_add, skiprows=2)\n",
      "C:\\Users\\Remote\\AppData\\Local\\Temp\\ipykernel_6052\\2649448255.py:2: DtypeWarning: Columns (0,1,2,3,4,5,6,7,8,9,10,11,12,13,14,15,16,17,18,19,20,21,22,23,24,25,26,27,28,29,30,31,32,33,34,35,36,37,38,39,40,41,42,43,44,45,46,47,48,49,50,51,52,53,54,55,56,57,58,59,60,61,62,63,64,65,66,67,68,69,70,71,72,73,74,75,76,77,78,79,80,81,82,83,84,85,86,87,88,89,90,91,92,93,94,95,96,97,98,99,100,101,102,103,104,105,106,107,108,109,110,111,112,113,114,115,116,117,118,119,120,121,122,123,124,125,126,127,128,129,130,131,132,133,134,135,136) have mixed types. Specify dtype option on import or set low_memory=False.\n",
      "  df = pd.read_csv(input_add, skiprows=2)\n"
     ]
    }
   ],
   "source": [
    "for item in os.listdir(path_to_folder):\n",
    "    if item.split('.')[-1] == 'csv':\n",
    "        converted_name = item.split('.')[0] + 'converted.csv'\n",
    "        converted_df = reorder_columns(os.path.join(path_to_folder, item))\n",
    "        converted_df.to_csv(os.path.join(path_to_processed, f'{converted_name}'), index=False)\n",
    "\n",
    "    "
   ]
  },
  {
   "cell_type": "code",
   "execution_count": null,
   "id": "ce5a5bd9",
   "metadata": {},
   "outputs": [],
   "source": []
  }
 ],
 "metadata": {
  "kernelspec": {
   "display_name": "Niloo_Proj",
   "language": "python",
   "name": "python3"
  },
  "language_info": {
   "codemirror_mode": {
    "name": "ipython",
    "version": 3
   },
   "file_extension": ".py",
   "mimetype": "text/x-python",
   "name": "python",
   "nbconvert_exporter": "python",
   "pygments_lexer": "ipython3",
   "version": "3.9.21"
  }
 },
 "nbformat": 4,
 "nbformat_minor": 5
}
