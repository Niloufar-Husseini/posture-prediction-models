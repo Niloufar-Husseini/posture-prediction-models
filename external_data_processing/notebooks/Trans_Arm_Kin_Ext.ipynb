{
 "cells": [
  {
   "cell_type": "code",
   "execution_count": 1,
   "metadata": {
    "colab": {
     "base_uri": "https://localhost:8080/"
    },
    "executionInfo": {
     "elapsed": 30338,
     "status": "ok",
     "timestamp": 1697963249235,
     "user": {
      "displayName": "Niloofar",
      "userId": "17604302765185403882"
     },
     "user_tz": -210
    },
    "id": "FS8euL2B47Nj",
    "outputId": "510e4f27-ed23-4841-fbc5-55fa126af217"
   },
   "outputs": [],
   "source": [
    "import numpy as np\n",
    "import torch\n",
    "import os\n",
    "import pandas as pd\n",
    "import itertools as it\n",
    "from torch.utils.data import Dataset, DataLoader\n",
    "import torch.nn as nn\n",
    "from torchvision import transforms\n",
    "import matplotlib.pyplot as plt\n",
    "from sklearn.metrics import r2_score\n",
    "from sklearn.preprocessing import StandardScaler\n",
    "\n",
    "\n",
    "\n",
    "# from google.colab import drive\n",
    "# drive.mount('/content/drive')"
   ]
  },
  {
   "cell_type": "code",
   "execution_count": 2,
   "metadata": {
    "executionInfo": {
     "elapsed": 912,
     "status": "ok",
     "timestamp": 1697963250139,
     "user": {
      "displayName": "Niloofar",
      "userId": "17604302765185403882"
     },
     "user_tz": -210
    },
    "id": "uXkmdsfg-Hi3"
   },
   "outputs": [],
   "source": [
    "# !cp /content/drive/MyDrive/Models/utils_arm.py .\n",
    "\n",
    "import sys\n",
    "from pathlib import Path\n",
    "sys.path.append(str(Path(\"../../src\").resolve()))\n",
    "\n",
    "from utils_arm import *\n",
    "\n",
    "# !pip install optuna\n",
    "# import optuna"
   ]
  },
  {
   "cell_type": "code",
   "execution_count": 3,
   "metadata": {
    "colab": {
     "base_uri": "https://localhost:8080/"
    },
    "executionInfo": {
     "elapsed": 6574,
     "status": "ok",
     "timestamp": 1697963256709,
     "user": {
      "displayName": "Niloofar",
      "userId": "17604302765185403882"
     },
     "user_tz": -210
    },
    "id": "asH7QHF3JV_b",
    "outputId": "4eafe344-0c71-4f5e-927d-c19ae114ef33"
   },
   "outputs": [],
   "source": [
    "# !pip install positional-encodings[pytorch]\n",
    "from positional_encodings.torch_encodings import PositionalEncoding1D, Summer"
   ]
  },
  {
   "cell_type": "code",
   "execution_count": 4,
   "metadata": {
    "executionInfo": {
     "elapsed": 7,
     "status": "ok",
     "timestamp": 1697963256709,
     "user": {
      "displayName": "Niloofar",
      "userId": "17604302765185403882"
     },
     "user_tz": -210
    },
    "id": "vCPoOb_HXu_D"
   },
   "outputs": [],
   "source": [
    "def read_range(f_path, segment_index, device):\n",
    "    \"\"\"\n",
    "    Reads a specific segment of data from a CSV file, reshapes it, and transfers it to the specified device.\n",
    "\n",
    "    Args:\n",
    "    f_path (str): The path to the CSV file.\n",
    "    segment_index (int): The index of the segment to extract from the CSV.\n",
    "    device (torch.device): The device to transfer the data to (CPU or GPU).\n",
    "\n",
    "    Returns:\n",
    "    torch.Tensor: The extracted and reshaped data transferred to the specified device.\n",
    "    \"\"\"\n",
    "    sub_dif = pd.read_csv(f_path, header=None).iloc[:, segment_index]\n",
    "    sub_dif = sub_dif.reset_index(inplace=False, drop=True)\n",
    "    sub_dif = sub_dif.to_numpy().reshape(-1, len(segment_index)*3)\n",
    "    sub_dif = torch.from_numpy(sub_dif).to(device)\n",
    "    return sub_dif\n",
    "\n",
    "def nRMSE_compute(L_tar_data, L_pred_data, my_range_data, Test_List_data, input_frames_data, segment_len_data, device):\n",
    "    \"\"\"\n",
    "    Compute the normalized Root Mean Squared Error (nRMSE) between the target and predicted data.\n",
    "\n",
    "    Args:\n",
    "    L_tar_data (torch.Tensor): The target values (actual data).\n",
    "    L_pred_data (torch.Tensor): The predicted values.\n",
    "    my_range_data (torch.Tensor): The range data for normalization.\n",
    "    Test_List_data (list): List of test data for determining the number of samples.\n",
    "    input_frames_data (int): The number of input frames used for the prediction.\n",
    "    segment_len_data (int): The length of each segment in the data.\n",
    "    device (torch.device): The device on which the tensors are located (CPU or GPU).\n",
    "\n",
    "    Returns:\n",
    "    torch.Tensor: The computed normalized RMSE value.\n",
    "    \"\"\"\n",
    "    \n",
    "    # Compute squared error between target and predicted values, normalized by range data\n",
    "    normalized_error = (L_tar_data.to(device) - L_pred_data.to(device)) / my_range_data.to(device)\n",
    "    squared_error = torch.sum(torch.sum(normalized_error ** 2))\n",
    "    \n",
    "    # Normalize the total squared error by the number of samples and compute the square root\n",
    "    num_samples = len(Test_List_data) * (101 - input_frames_data) * segment_len_data\n",
    "    nrmse = torch.sqrt(squared_error / num_samples)\n",
    "    \n",
    "    return nrmse\n",
    "\n",
    "\n",
    "def RMSE_compute(L_tar_data, L_pred_data, Test_List_data, input_frames_data, segment_len_data, device):\n",
    "    \"\"\"\n",
    "    Compute the Root Mean Squared Error (RMSE) between the target and predicted data.\n",
    "\n",
    "    Args:\n",
    "    L_tar_data (torch.Tensor): The target values (actual data).\n",
    "    L_pred_data (torch.Tensor): The predicted values.\n",
    "    Test_List_data (list): List of test data for determining the number of samples.\n",
    "    input_frames_data (int): The number of input frames used for the prediction.\n",
    "    segment_len_data (int): The length of each segment in the data.\n",
    "    device (torch.device): The device on which the tensors are located (CPU or GPU).\n",
    "\n",
    "    Returns:\n",
    "    torch.Tensor: The computed RMSE value.\n",
    "    \"\"\"\n",
    "    # Calculate squared error between target and predicted data, then sum it up\n",
    "    squared_error = (L_tar_data.to(device) - L_pred_data.to(device))**2\n",
    "    tot_loss = torch.sum(torch.sum(squared_error))\n",
    "    \n",
    "    # Normalize the total squared error by the number of samples and compute the square root\n",
    "    num_samples = len(Test_List_data) * (101 - input_frames_data) * segment_len_data\n",
    "    tot_loss = torch.sqrt(tot_loss / num_samples)\n",
    "\n",
    "    return tot_loss\n",
    "\n",
    "\n",
    "def r2_compute(L_tar_data, L_pred_data):\n",
    "    \"\"\"\n",
    "    Compute the R² (coefficient of determination) score between the true and predicted values,\n",
    "    after scaling both using the StandardScaler.\n",
    "\n",
    "    Args:\n",
    "    L_tar (numpy.ndarray or torch.Tensor): The true values.\n",
    "    L_pred (numpy.ndarray or torch.Tensor): The predicted values.\n",
    "\n",
    "    Returns:\n",
    "    float: The R² score, a measure of the goodness of fit.\n",
    "    \"\"\"\n",
    "    # Ensure that input data is in the correct shape (2D array) for scaling\n",
    "    scaler = StandardScaler()\n",
    "\n",
    "    # Reshape and scale the true and predicted values\n",
    "    scaled_y_true = scaler.fit_transform(L_tar_data.reshape(-1, 1))\n",
    "    scaled_y_pred = scaler.transform(L_pred_data.reshape(-1, 1))\n",
    "\n",
    "    # Compute the R² score\n",
    "    r2 = r2_score(scaled_y_true, scaled_y_pred)\n",
    "\n",
    "    return r2"
   ]
  },
  {
   "cell_type": "code",
   "execution_count": 5,
   "metadata": {
    "executionInfo": {
     "elapsed": 8,
     "status": "ok",
     "timestamp": 1697963256710,
     "user": {
      "displayName": "Niloofar",
      "userId": "17604302765185403882"
     },
     "user_tz": -210
    },
    "id": "t4xvKjc6Z3Ly"
   },
   "outputs": [],
   "source": [
    "input_frames, predicted_frames, my_stride = 25, 1, 1\n",
    "num_of_sub = 1\n",
    "val_sub = []\n",
    "test_sub = [1]\n",
    "test_sub_1 = [1]\n",
    "test_sub_2 = [1]\n",
    "segment_inds = [11, 12, 13, 14, 15, 16, 17, 18, 19, 20, 21, 22, 23, 24]\n",
    "body_segment_name = 'Arm'"
   ]
  },
  {
   "cell_type": "code",
   "execution_count": 6,
   "metadata": {
    "executionInfo": {
     "elapsed": 7,
     "status": "ok",
     "timestamp": 1697963256710,
     "user": {
      "displayName": "Niloofar",
      "userId": "17604302765185403882"
     },
     "user_tz": -210
    },
    "id": "Z9pJw_8f9pYV"
   },
   "outputs": [],
   "source": [
    "# path to proceesed folder\n",
    "proceesed_path = r'C:\\Niloofar\\SCR\\posture-prediction-models-main\\external_data_processing\\converted_data\\Final_data\\s1'\n",
    "\n",
    "\n",
    "test_pathes = []\n",
    "for i in test_sub:\n",
    "  test_pathes.append(proceesed_path)\n",
    "\n",
    "path_to_subject_mean = os.path.join('C:/Niloofar/SCR/posture-prediction-models-main/data/mean-std_20_4_2025', 'mean.csv')\n",
    "path_to_subject_std = os.path.join('C:/Niloofar/SCR/posture-prediction-models-main/data/mean-std_20_4_2025', 'std.csv')\n",
    "path_to_subject_range = os.path.join(r'C:\\Niloofar\\SCR\\posture-prediction-models-main\\external_data_processing\\converted_data\\diff', 'dif.csv')\n",
    "\n",
    "path_to_folder = r'C:/Niloofar/SCR/posture-prediction-models-main/models/transformer_arm_with_kinematic_constraints'\n",
    "path_to_outputs = r'C:\\Niloofar\\SCR\\posture-prediction-models-main\\external_data_processing\\notebooks'"
   ]
  },
  {
   "cell_type": "code",
   "execution_count": 7,
   "metadata": {
    "colab": {
     "base_uri": "https://localhost:8080/"
    },
    "executionInfo": {
     "elapsed": 7,
     "status": "ok",
     "timestamp": 1697963256710,
     "user": {
      "displayName": "Niloofar",
      "userId": "17604302765185403882"
     },
     "user_tz": -210
    },
    "id": "es3td_EMd6hA",
    "outputId": "5851276b-f956-483a-a777-b1d15a31e93d"
   },
   "outputs": [
    {
     "data": {
      "text/plain": [
       "['C:\\\\Niloofar\\\\SCR\\\\posture-prediction-models-main\\\\external_data_processing\\\\converted_data\\\\Final_data\\\\s1']"
      ]
     },
     "execution_count": 7,
     "metadata": {},
     "output_type": "execute_result"
    }
   ],
   "source": [
    "test_pathes"
   ]
  },
  {
   "cell_type": "code",
   "execution_count": 9,
   "metadata": {
    "colab": {
     "base_uri": "https://localhost:8080/"
    },
    "executionInfo": {
     "elapsed": 90454,
     "status": "ok",
     "timestamp": 1697963347159,
     "user": {
      "displayName": "Niloofar",
      "userId": "17604302765185403882"
     },
     "user_tz": -210
    },
    "id": "5YsBLjLwnXPG",
    "outputId": "417346b2-2f10-4a12-af73-c320af35064b"
   },
   "outputs": [
    {
     "name": "stdout",
     "output_type": "stream",
     "text": [
      "32 (101, 49)\n"
     ]
    }
   ],
   "source": [
    "Val_List = []\n",
    "Test_List = []\n",
    "Test_1_List = []\n",
    "Test_2_List = []\n",
    "my_path_list = []\n",
    "\n",
    "# for val_path in val_pathes:\n",
    "#   test_ls, segment_len, _ = read_test(val_path, body_segment_name)\n",
    "#   Val_List.extend(test_ls)\n",
    "\n",
    "# print(len(test_ls), test_ls[0].shape)\n",
    "\n",
    "for test_path in test_pathes:\n",
    "  test_ls, segment_len, my_pth_ls = read_test(test_path, body_segment_name)\n",
    "  my_path_list.extend(my_pth_ls)\n",
    "  Test_List.extend(test_ls)\n",
    "\n",
    "test_1_ls, _, _ = read_test(test_pathes[0], body_segment_name)\n",
    "Test_1_List.extend(test_1_ls)\n",
    "\n",
    "\n",
    "print(len(test_ls), test_ls[0].shape)"
   ]
  },
  {
   "cell_type": "markdown",
   "metadata": {
    "id": "ryZ_Slwu47Ns"
   },
   "source": [
    "## Data Loader"
   ]
  },
  {
   "cell_type": "code",
   "execution_count": 10,
   "metadata": {
    "colab": {
     "base_uri": "https://localhost:8080/"
    },
    "executionInfo": {
     "elapsed": 24,
     "status": "ok",
     "timestamp": 1697963347159,
     "user": {
      "displayName": "Niloofar",
      "userId": "17604302765185403882"
     },
     "user_tz": -210
    },
    "id": "cC7adh9J-7QA",
    "outputId": "41d02706-b6be-4d1b-b0bb-fc84fbb6e505"
   },
   "outputs": [
    {
     "name": "stdout",
     "output_type": "stream",
     "text": [
      "cpu\n"
     ]
    }
   ],
   "source": [
    "device = torch.device(\"cuda:0\" if torch.cuda.is_available() else \"cpu\")\n",
    "\n",
    "print(device)"
   ]
  },
  {
   "cell_type": "code",
   "execution_count": 11,
   "metadata": {
    "colab": {
     "base_uri": "https://localhost:8080/",
     "height": 245
    },
    "executionInfo": {
     "elapsed": 7493,
     "status": "error",
     "timestamp": 1697963354631,
     "user": {
      "displayName": "Niloofar",
      "userId": "17604302765185403882"
     },
     "user_tz": -210
    },
    "id": "apdZx3mG47Nw",
    "outputId": "f1ba7208-02d0-4361-f56b-0b48994e1b02"
   },
   "outputs": [],
   "source": [
    "my_mean = pd.read_csv(path_to_subject_mean, header=None).iloc[:, segment_inds]\n",
    "my_std = pd.read_csv(path_to_subject_std, header=None).iloc[:, segment_inds]\n",
    "my_range = read_range(path_to_subject_range, segment_inds, device)\n",
    "\n",
    "denormalize_transform = Denormalizer(my_mean, my_std, predicted_frames, device)\n",
    "tot_denormalize_transform = Denormalizer(my_mean, my_std, 101, device)\n",
    "\n"
   ]
  },
  {
   "cell_type": "code",
   "execution_count": 12,
   "metadata": {
    "executionInfo": {
     "elapsed": 13,
     "status": "aborted",
     "timestamp": 1697963354632,
     "user": {
      "displayName": "Niloofar",
      "userId": "17604302765185403882"
     },
     "user_tz": -210
    },
    "id": "3r9ZiuWJAQ-M"
   },
   "outputs": [
    {
     "data": {
      "text/html": [
       "<div>\n",
       "<style scoped>\n",
       "    .dataframe tbody tr th:only-of-type {\n",
       "        vertical-align: middle;\n",
       "    }\n",
       "\n",
       "    .dataframe tbody tr th {\n",
       "        vertical-align: top;\n",
       "    }\n",
       "\n",
       "    .dataframe thead th {\n",
       "        text-align: right;\n",
       "    }\n",
       "</style>\n",
       "<table border=\"1\" class=\"dataframe\">\n",
       "  <thead>\n",
       "    <tr style=\"text-align: right;\">\n",
       "      <th></th>\n",
       "      <th>11</th>\n",
       "      <th>12</th>\n",
       "      <th>13</th>\n",
       "      <th>14</th>\n",
       "      <th>15</th>\n",
       "      <th>16</th>\n",
       "      <th>17</th>\n",
       "      <th>18</th>\n",
       "      <th>19</th>\n",
       "      <th>20</th>\n",
       "      <th>21</th>\n",
       "      <th>22</th>\n",
       "      <th>23</th>\n",
       "      <th>24</th>\n",
       "    </tr>\n",
       "  </thead>\n",
       "  <tbody>\n",
       "    <tr>\n",
       "      <th>0</th>\n",
       "      <td>-102.521240</td>\n",
       "      <td>-163.969201</td>\n",
       "      <td>-164.005249</td>\n",
       "      <td>-160.333254</td>\n",
       "      <td>-140.845619</td>\n",
       "      <td>-132.805940</td>\n",
       "      <td>-154.510559</td>\n",
       "      <td>157.624312</td>\n",
       "      <td>229.661075</td>\n",
       "      <td>232.303898</td>\n",
       "      <td>262.874546</td>\n",
       "      <td>277.485157</td>\n",
       "      <td>257.119242</td>\n",
       "      <td>308.001840</td>\n",
       "    </tr>\n",
       "    <tr>\n",
       "      <th>1</th>\n",
       "      <td>193.671748</td>\n",
       "      <td>199.478745</td>\n",
       "      <td>167.928531</td>\n",
       "      <td>220.478910</td>\n",
       "      <td>248.774654</td>\n",
       "      <td>204.921670</td>\n",
       "      <td>258.412673</td>\n",
       "      <td>136.272041</td>\n",
       "      <td>109.388416</td>\n",
       "      <td>103.792617</td>\n",
       "      <td>155.122618</td>\n",
       "      <td>219.266158</td>\n",
       "      <td>184.783723</td>\n",
       "      <td>226.408868</td>\n",
       "    </tr>\n",
       "    <tr>\n",
       "      <th>2</th>\n",
       "      <td>1334.204791</td>\n",
       "      <td>1210.004653</td>\n",
       "      <td>1033.662291</td>\n",
       "      <td>896.610152</td>\n",
       "      <td>839.279401</td>\n",
       "      <td>810.482412</td>\n",
       "      <td>763.932310</td>\n",
       "      <td>1316.537317</td>\n",
       "      <td>1110.456805</td>\n",
       "      <td>1011.272476</td>\n",
       "      <td>959.200203</td>\n",
       "      <td>868.956986</td>\n",
       "      <td>829.657863</td>\n",
       "      <td>802.789064</td>\n",
       "    </tr>\n",
       "  </tbody>\n",
       "</table>\n",
       "</div>"
      ],
      "text/plain": [
       "            11           12           13          14          15          16  \\\n",
       "0  -102.521240  -163.969201  -164.005249 -160.333254 -140.845619 -132.805940   \n",
       "1   193.671748   199.478745   167.928531  220.478910  248.774654  204.921670   \n",
       "2  1334.204791  1210.004653  1033.662291  896.610152  839.279401  810.482412   \n",
       "\n",
       "           17           18           19           20          21          22  \\\n",
       "0 -154.510559   157.624312   229.661075   232.303898  262.874546  277.485157   \n",
       "1  258.412673   136.272041   109.388416   103.792617  155.122618  219.266158   \n",
       "2  763.932310  1316.537317  1110.456805  1011.272476  959.200203  868.956986   \n",
       "\n",
       "           23          24  \n",
       "0  257.119242  308.001840  \n",
       "1  184.783723  226.408868  \n",
       "2  829.657863  802.789064  "
      ]
     },
     "execution_count": 12,
     "metadata": {},
     "output_type": "execute_result"
    }
   ],
   "source": [
    "my_mean"
   ]
  },
  {
   "cell_type": "markdown",
   "metadata": {
    "id": "O-HSlN-F47N1"
   },
   "source": [
    "# Model Implementation"
   ]
  },
  {
   "cell_type": "code",
   "execution_count": 13,
   "metadata": {
    "executionInfo": {
     "elapsed": 633,
     "status": "ok",
     "timestamp": 1697963376349,
     "user": {
      "displayName": "Niloofar",
      "userId": "17604302765185403882"
     },
     "user_tz": -210
    },
    "id": "CQoI6cxcHLFB"
   },
   "outputs": [],
   "source": [
    "class TransformerBased(nn.Module):\n",
    "  def __init__(self, in_ftrs, d_model=64, num_head=8, num_feed_forward=2048, drop_trans=0.2, enc_num_layers=1, dec_num_layers=1, drop_fc=0.01, out_neurons=100):\n",
    "    super(TransformerBased, self).__init__()\n",
    "    self.in_ftrs = in_ftrs\n",
    "    self.d_model = d_model\n",
    "    self.out_neurons = out_neurons\n",
    "\n",
    "    self.dim_expander = nn.Linear(self.in_ftrs, self.d_model)\n",
    "\n",
    "    self.p_enc = Summer(PositionalEncoding1D(self.d_model))\n",
    "\n",
    "    self.encoder = nn.TransformerEncoder(nn.TransformerEncoderLayer(d_model=d_model, nhead=num_head,\n",
    "                                                    dim_feedforward=num_feed_forward,\n",
    "                                                    dropout=drop_trans, batch_first=True),\n",
    "                                          num_layers=enc_num_layers)\n",
    "\n",
    "\n",
    "    self.decoder = nn.TransformerDecoder(nn.TransformerDecoderLayer(d_model=d_model, nhead=num_head,\n",
    "                                                     dim_feedforward=num_feed_forward,\n",
    "                                                     dropout=drop_trans, batch_first=True),\n",
    "                          num_layers=dec_num_layers)\n",
    "\n",
    "    self.fc = nn.Sequential(nn.Linear(self.d_model, self.out_neurons),\n",
    "                            nn.ReLU(),\n",
    "                            nn.Dropout(drop_fc),\n",
    "                            nn.Linear(self.out_neurons, self.in_ftrs-7))\n",
    "\n",
    "  def forward(self, src):\n",
    "    tgt = src[:, -1, :].unsqueeze(1)\n",
    "    src = self.dim_expander(src)\n",
    "    tgt = self.dim_expander(tgt)\n",
    "    src = self.p_enc(src)\n",
    "    tgt = self.p_enc(tgt)\n",
    "    encoded = self.encoder(src)\n",
    "    out = self.decoder(tgt, encoded)\n",
    "    out = self.fc(out)\n",
    "    return out\n"
   ]
  },
  {
   "cell_type": "code",
   "execution_count": 14,
   "metadata": {
    "colab": {
     "base_uri": "https://localhost:8080/"
    },
    "executionInfo": {
     "elapsed": 3,
     "status": "ok",
     "timestamp": 1697963377519,
     "user": {
      "displayName": "Niloofar",
      "userId": "17604302765185403882"
     },
     "user_tz": -210
    },
    "id": "Ffkja5Hi47N2",
    "outputId": "807d4300-703d-48ab-f838-443f7e02fe54"
   },
   "outputs": [
    {
     "data": {
      "text/plain": [
       "TransformerBased(\n",
       "  (dim_expander): Linear(in_features=49, out_features=96, bias=True)\n",
       "  (p_enc): Summer(\n",
       "    (penc): PositionalEncoding1D()\n",
       "  )\n",
       "  (encoder): TransformerEncoder(\n",
       "    (layers): ModuleList(\n",
       "      (0): TransformerEncoderLayer(\n",
       "        (self_attn): MultiheadAttention(\n",
       "          (out_proj): NonDynamicallyQuantizableLinear(in_features=96, out_features=96, bias=True)\n",
       "        )\n",
       "        (linear1): Linear(in_features=96, out_features=512, bias=True)\n",
       "        (dropout): Dropout(p=0.25, inplace=False)\n",
       "        (linear2): Linear(in_features=512, out_features=96, bias=True)\n",
       "        (norm1): LayerNorm((96,), eps=1e-05, elementwise_affine=True)\n",
       "        (norm2): LayerNorm((96,), eps=1e-05, elementwise_affine=True)\n",
       "        (dropout1): Dropout(p=0.25, inplace=False)\n",
       "        (dropout2): Dropout(p=0.25, inplace=False)\n",
       "      )\n",
       "    )\n",
       "  )\n",
       "  (decoder): TransformerDecoder(\n",
       "    (layers): ModuleList(\n",
       "      (0-2): 3 x TransformerDecoderLayer(\n",
       "        (self_attn): MultiheadAttention(\n",
       "          (out_proj): NonDynamicallyQuantizableLinear(in_features=96, out_features=96, bias=True)\n",
       "        )\n",
       "        (multihead_attn): MultiheadAttention(\n",
       "          (out_proj): NonDynamicallyQuantizableLinear(in_features=96, out_features=96, bias=True)\n",
       "        )\n",
       "        (linear1): Linear(in_features=96, out_features=512, bias=True)\n",
       "        (dropout): Dropout(p=0.25, inplace=False)\n",
       "        (linear2): Linear(in_features=512, out_features=96, bias=True)\n",
       "        (norm1): LayerNorm((96,), eps=1e-05, elementwise_affine=True)\n",
       "        (norm2): LayerNorm((96,), eps=1e-05, elementwise_affine=True)\n",
       "        (norm3): LayerNorm((96,), eps=1e-05, elementwise_affine=True)\n",
       "        (dropout1): Dropout(p=0.25, inplace=False)\n",
       "        (dropout2): Dropout(p=0.25, inplace=False)\n",
       "        (dropout3): Dropout(p=0.25, inplace=False)\n",
       "      )\n",
       "    )\n",
       "  )\n",
       "  (fc): Sequential(\n",
       "    (0): Linear(in_features=96, out_features=64, bias=True)\n",
       "    (1): ReLU()\n",
       "    (2): Dropout(p=0, inplace=False)\n",
       "    (3): Linear(in_features=64, out_features=42, bias=True)\n",
       "  )\n",
       ")"
      ]
     },
     "execution_count": 14,
     "metadata": {},
     "output_type": "execute_result"
    }
   ],
   "source": [
    "model = TransformerBased(49, d_model=96, num_head=16, num_feed_forward=512, drop_trans=0.25, enc_num_layers=1, dec_num_layers=3, drop_fc=0, out_neurons=64)\n",
    "\n",
    "\n",
    "model.to(device)"
   ]
  },
  {
   "cell_type": "code",
   "execution_count": 15,
   "metadata": {
    "colab": {
     "base_uri": "https://localhost:8080/"
    },
    "executionInfo": {
     "elapsed": 4,
     "status": "ok",
     "timestamp": 1697963377957,
     "user": {
      "displayName": "Niloofar",
      "userId": "17604302765185403882"
     },
     "user_tz": -210
    },
    "id": "ZbftCHfU47N2",
    "outputId": "78fafc79-e103-4ecf-83ed-676a069a23af"
   },
   "outputs": [
    {
     "data": {
      "text/plain": [
       "672234"
      ]
     },
     "execution_count": 15,
     "metadata": {},
     "output_type": "execute_result"
    }
   ],
   "source": [
    "count_parameters(model)"
   ]
  },
  {
   "cell_type": "markdown",
   "metadata": {
    "id": "kf-x7YMz47N6"
   },
   "source": [
    "# Best MSE\n"
   ]
  },
  {
   "cell_type": "code",
   "execution_count": 16,
   "metadata": {
    "colab": {
     "base_uri": "https://localhost:8080/"
    },
    "executionInfo": {
     "elapsed": 1208,
     "status": "ok",
     "timestamp": 1697963388097,
     "user": {
      "displayName": "Niloofar",
      "userId": "17604302765185403882"
     },
     "user_tz": -210
    },
    "id": "dCVE8pDsigtK",
    "outputId": "df6cd9db-ac17-41ed-bcfd-73897e8a1187"
   },
   "outputs": [
    {
     "name": "stderr",
     "output_type": "stream",
     "text": [
      "C:\\Users\\Remote\\AppData\\Local\\Temp\\ipykernel_7956\\3899656445.py:6: FutureWarning: You are using `torch.load` with `weights_only=False` (the current default value), which uses the default pickle module implicitly. It is possible to construct malicious pickle data which will execute arbitrary code during unpickling (See https://github.com/pytorch/pytorch/blob/main/SECURITY.md#untrusted-models for more details). In a future release, the default value for `weights_only` will be flipped to `True`. This limits the functions that could be executed during unpickling. Arbitrary objects will no longer be allowed to be loaded via this mode unless they are explicitly allowlisted by the user via `torch.serialization.add_safe_globals`. We recommend you start setting `weights_only=True` for any use case where you don't have full control of the loaded file. Please open an issue on GitHub for any issues related to this experimental feature.\n",
      "  model.load_state_dict(torch.load(os.path.join(path_to_folder, \"last_model_params.pt\"), map_location=torch.device('cpu')))\n"
     ]
    },
    {
     "data": {
      "text/plain": [
       "TransformerBased(\n",
       "  (dim_expander): Linear(in_features=49, out_features=96, bias=True)\n",
       "  (p_enc): Summer(\n",
       "    (penc): PositionalEncoding1D()\n",
       "  )\n",
       "  (encoder): TransformerEncoder(\n",
       "    (layers): ModuleList(\n",
       "      (0): TransformerEncoderLayer(\n",
       "        (self_attn): MultiheadAttention(\n",
       "          (out_proj): NonDynamicallyQuantizableLinear(in_features=96, out_features=96, bias=True)\n",
       "        )\n",
       "        (linear1): Linear(in_features=96, out_features=512, bias=True)\n",
       "        (dropout): Dropout(p=0.25, inplace=False)\n",
       "        (linear2): Linear(in_features=512, out_features=96, bias=True)\n",
       "        (norm1): LayerNorm((96,), eps=1e-05, elementwise_affine=True)\n",
       "        (norm2): LayerNorm((96,), eps=1e-05, elementwise_affine=True)\n",
       "        (dropout1): Dropout(p=0.25, inplace=False)\n",
       "        (dropout2): Dropout(p=0.25, inplace=False)\n",
       "      )\n",
       "    )\n",
       "  )\n",
       "  (decoder): TransformerDecoder(\n",
       "    (layers): ModuleList(\n",
       "      (0-2): 3 x TransformerDecoderLayer(\n",
       "        (self_attn): MultiheadAttention(\n",
       "          (out_proj): NonDynamicallyQuantizableLinear(in_features=96, out_features=96, bias=True)\n",
       "        )\n",
       "        (multihead_attn): MultiheadAttention(\n",
       "          (out_proj): NonDynamicallyQuantizableLinear(in_features=96, out_features=96, bias=True)\n",
       "        )\n",
       "        (linear1): Linear(in_features=96, out_features=512, bias=True)\n",
       "        (dropout): Dropout(p=0.25, inplace=False)\n",
       "        (linear2): Linear(in_features=512, out_features=96, bias=True)\n",
       "        (norm1): LayerNorm((96,), eps=1e-05, elementwise_affine=True)\n",
       "        (norm2): LayerNorm((96,), eps=1e-05, elementwise_affine=True)\n",
       "        (norm3): LayerNorm((96,), eps=1e-05, elementwise_affine=True)\n",
       "        (dropout1): Dropout(p=0.25, inplace=False)\n",
       "        (dropout2): Dropout(p=0.25, inplace=False)\n",
       "        (dropout3): Dropout(p=0.25, inplace=False)\n",
       "      )\n",
       "    )\n",
       "  )\n",
       "  (fc): Sequential(\n",
       "    (0): Linear(in_features=96, out_features=64, bias=True)\n",
       "    (1): ReLU()\n",
       "    (2): Dropout(p=0, inplace=False)\n",
       "    (3): Linear(in_features=64, out_features=42, bias=True)\n",
       "  )\n",
       ")"
      ]
     },
     "execution_count": 16,
     "metadata": {},
     "output_type": "execute_result"
    }
   ],
   "source": [
    "# Load best val model\n",
    "model = TransformerBased(49, d_model=96, num_head=16, num_feed_forward=512, drop_trans=0.25, enc_num_layers=1, dec_num_layers=3, drop_fc=0, out_neurons=64)\n",
    "\n",
    "\n",
    "model.to(device)\n",
    "model.load_state_dict(torch.load(os.path.join(path_to_folder, \"last_model_params.pt\"), map_location=torch.device('cpu')))\n",
    "model.eval()"
   ]
  },
  {
   "cell_type": "code",
   "execution_count": 17,
   "metadata": {
    "id": "m6-dha6QBJ7S"
   },
   "outputs": [],
   "source": [
    "i = 0\n",
    "L_tar = torch.zeros(101*len(Test_List), segment_len)\n",
    "L_pred = torch.zeros(101*len(Test_List), segment_len)\n",
    "for j in range(len(Test_List)):\n",
    "    L_v_tar, L_v_pred = L_Pred(Test_List, j, model, tot_denormalize_transform, input_frames, predicted_frames, segment_len, device)\n",
    "    L_tar[0+i:101+i, :] = L_v_tar\n",
    "    L_pred[0+i:101+i, :] = L_v_pred\n",
    "    i = i + 101"
   ]
  },
  {
   "cell_type": "code",
   "execution_count": 18,
   "metadata": {},
   "outputs": [
    {
     "name": "stdout",
     "output_type": "stream",
     "text": [
      "RMSE: 70.8370590209961, nRMSE: 0.11116972347673226, r2: 0.9776550758994504\n"
     ]
    }
   ],
   "source": [
    "RMSE_loss = RMSE_compute(L_tar, L_pred, Test_List, input_frames, segment_len, device)\n",
    "nRMSE_loss = nRMSE_compute(L_tar, L_pred, my_range, Test_List, input_frames, segment_len, device)\n",
    "r2_m = r2_compute(L_tar, L_pred)\n",
    "print(f'RMSE: {RMSE_loss}, nRMSE: {nRMSE_loss}, r2: {r2_m}')"
   ]
  },
  {
   "cell_type": "markdown",
   "metadata": {},
   "source": [
    "## Segment Calculation"
   ]
  },
  {
   "cell_type": "code",
   "execution_count": 19,
   "metadata": {},
   "outputs": [],
   "source": [
    "class SegmentLengthProcessor:\n",
    "    def __init__(self, L_selected, Label):\n",
    "        \"\"\"\n",
    "        Initialize with the selected data.\n",
    "        L_selected: The input data for segment lengths.\n",
    "        \"\"\"\n",
    "        self.L_selected = L_selected\n",
    "        self.Label = Label\n",
    "        self.arm_len = None\n",
    "    \n",
    "    def compute_segment_length(self):\n",
    "        \"\"\"\n",
    "        Compute the segment length based on the selected segment indexes.\n",
    "        seg_indexes: List of segment indexes to calculate the segment length.\n",
    "        Returns the computed segment lengths.\n",
    "        \"\"\"\n",
    "\n",
    "        label_dict = {\n",
    "            'Right ForeArm': [9, 11, 23, 25, 37, 39],\n",
    "            'Left ForeArm': [2, 4, 16, 18, 30, 32],\n",
    "            'Right Arm': [7, 9, 21, 23, 35, 37],\n",
    "            'Left Arm': [0, 2, 14, 16, 28, 30]\n",
    "        }\n",
    "\n",
    "        seg_indexes = label_dict[self.Label]\n",
    "\n",
    "        \n",
    "        L_t = pd.DataFrame(self.L_selected.numpy())  # Assuming L_selected is a tensor\n",
    "        arm = L_t.iloc[:, seg_indexes].copy()\n",
    "        \n",
    "        # Compute differences along each axis\n",
    "        dx = arm[seg_indexes[0]] - arm[seg_indexes[1]]\n",
    "        dy = arm[seg_indexes[2]] - arm[seg_indexes[3]]\n",
    "        dz = arm[seg_indexes[4]] - arm[seg_indexes[5]]\n",
    "        \n",
    "        # Add difference columns\n",
    "        arm['dx'] = dx\n",
    "        arm['dy'] = dy\n",
    "        arm['dz'] = dz\n",
    "        \n",
    "        # Drop the original segment columns and compute the length\n",
    "        arm = arm.drop(columns=seg_indexes)\n",
    "        self.arm_len = np.sqrt((arm**2).sum(axis=1))  # Calculate the segment length\n",
    "        return self.arm_len\n",
    "    \n",
    "    def save_segment_length_to_file(self, path_to_save_folder, file_name):\n",
    "        \"\"\"\n",
    "        Save the computed segment lengths to a CSV file.\n",
    "        path_to_save_folder: The folder where the CSV file will be saved.\n",
    "        label: The label to be used in the saved filename.\n",
    "        \"\"\"\n",
    "        if self.arm_len is None:\n",
    "            raise ValueError(\"Segment length has not been computed yet. Call compute_segment_length first.\")\n",
    "        \n",
    "        # Save the segment lengths to a CSV file\n",
    "        self.arm_len.to_csv(os.path.join(path_to_save_folder, f\"{file_name}.csv\"))\n",
    "\n"
   ]
  },
  {
   "cell_type": "code",
   "execution_count": 20,
   "metadata": {},
   "outputs": [],
   "source": [
    "two_sub_true_dict = {'Right ForeArm': 'right_forearm_two_sub_true', 'Left ForeArm': 'left_forearm_two_sub_true',\n",
    "                     'Right Arm': 'right_arm_two_sub_true', 'Left Arm': 'left_arm_two_sub_true',}"
   ]
  },
  {
   "cell_type": "code",
   "execution_count": 21,
   "metadata": {},
   "outputs": [],
   "source": [
    "selected_df = L_tar\n",
    "selected_dict = two_sub_true_dict\n",
    "for key, value in selected_dict.items():\n",
    "    processor = SegmentLengthProcessor(selected_df, key)\n",
    "    seg_len = processor.compute_segment_length()\n",
    "    processor.save_segment_length_to_file(path_to_outputs, value)"
   ]
  },
  {
   "cell_type": "code",
   "execution_count": 22,
   "metadata": {},
   "outputs": [],
   "source": [
    "two_sub_pred_dict = {'Right ForeArm': 'right_forearm_two_sub_pred', 'Left ForeArm': 'left_forearm_two_sub_pred',\n",
    "                     'Right Arm': 'right_arm_two_sub_pred', 'Left Arm': 'left_arm_two_sub_pred',}"
   ]
  },
  {
   "cell_type": "code",
   "execution_count": 23,
   "metadata": {},
   "outputs": [],
   "source": [
    "selected_df = L_pred\n",
    "selected_dict = two_sub_pred_dict\n",
    "for key, value in selected_dict.items():\n",
    "    processor = SegmentLengthProcessor(selected_df, key)\n",
    "    seg_len = processor.compute_segment_length()\n",
    "    processor.save_segment_length_to_file(path_to_outputs, value)"
   ]
  },
  {
   "cell_type": "markdown",
   "metadata": {},
   "source": [
    "### One test subject: test subject 1"
   ]
  },
  {
   "cell_type": "code",
   "execution_count": 24,
   "metadata": {},
   "outputs": [],
   "source": [
    "i = 0\n",
    "L_tar_test_sub_1 = torch.zeros(101*len(Test_1_List), segment_len)\n",
    "L_pred_test_sub_1 = torch.zeros(101*len(Test_1_List), segment_len)\n",
    "for j in range(len(Test_1_List)):\n",
    "    L_v_tar, L_v_pred = L_Pred(Test_1_List, j, model, tot_denormalize_transform, input_frames, predicted_frames, segment_len, device)\n",
    "    L_tar_test_sub_1[0+i:101+i, :] = L_v_tar\n",
    "    L_pred_test_sub_1[0+i:101+i, :] = L_v_pred\n",
    "    i = i + 101"
   ]
  },
  {
   "cell_type": "code",
   "execution_count": 27,
   "metadata": {},
   "outputs": [
    {
     "name": "stdout",
     "output_type": "stream",
     "text": [
      "RMSE: 70.8370590209961, nRMSE: 0.11116972347673226, r2: 0.9776550758994504\n"
     ]
    }
   ],
   "source": [
    "RMSE_loss = RMSE_compute(L_tar_test_sub_1, L_pred_test_sub_1, Test_1_List, input_frames, segment_len, device)\n",
    "nRMSE_loss = nRMSE_compute(L_tar_test_sub_1, L_pred_test_sub_1, my_range, Test_1_List, input_frames, segment_len, device)\n",
    "r2_m = r2_compute(L_tar_test_sub_1, L_pred_test_sub_1)\n",
    "print(f'RMSE: {RMSE_loss}, nRMSE: {nRMSE_loss}, r2: {r2_m}')"
   ]
  },
  {
   "cell_type": "code",
   "execution_count": 28,
   "metadata": {},
   "outputs": [],
   "source": [
    "sub_1_true_dict = {'Right ForeArm': 'right_forearm_sub_1_true', 'Left ForeArm': 'left_forearm_sub_1_true',\n",
    "                     'Right Arm': 'right_arm_sub_1_true', 'Left Arm': 'left_arm_sub_1_true',}"
   ]
  },
  {
   "cell_type": "code",
   "execution_count": 29,
   "metadata": {},
   "outputs": [],
   "source": [
    "selected_df =  L_tar_test_sub_1\n",
    "selected_dict = sub_1_true_dict\n",
    "for key, value in selected_dict.items():\n",
    "    processor = SegmentLengthProcessor(selected_df, key)\n",
    "    seg_len = processor.compute_segment_length()\n",
    "    processor.save_segment_length_to_file(path_to_outputs, value)"
   ]
  },
  {
   "cell_type": "code",
   "execution_count": 30,
   "metadata": {},
   "outputs": [],
   "source": [
    "sub_1_pred_dict = {'Right ForeArm': 'right_forearm_sub_1_pred', 'Left ForeArm': 'left_forearm_sub_1_pred',\n",
    "                     'Right Arm': 'right_arm_sub_1_pred', 'Left Arm': 'left_arm_sub_1_pred',}"
   ]
  },
  {
   "cell_type": "code",
   "execution_count": 31,
   "metadata": {},
   "outputs": [],
   "source": [
    "selected_df = L_pred_test_sub_1\n",
    "selected_dict = sub_1_pred_dict\n",
    "for key, value in selected_dict.items():\n",
    "    processor = SegmentLengthProcessor(selected_df, key)\n",
    "    seg_len = processor.compute_segment_length()\n",
    "    processor.save_segment_length_to_file(path_to_outputs, value)"
   ]
  },
  {
   "cell_type": "markdown",
   "metadata": {
    "id": "_ratkmpmHQ7a"
   },
   "source": [
    "# Export Results"
   ]
  },
  {
   "cell_type": "code",
   "execution_count": 32,
   "metadata": {},
   "outputs": [],
   "source": [
    "L_v_tar, L_v_pred = L_Pred(Test_List, 5, model, tot_denormalize_transform, input_frames, predicted_frames, segment_len, device)"
   ]
  },
  {
   "cell_type": "code",
   "execution_count": 33,
   "metadata": {},
   "outputs": [
    {
     "data": {
      "image/png": "[encoded data removed]",
      "text/plain": [
       "<Figure size 1500x1500 with 42 Axes>"
      ]
     },
     "metadata": {},
     "output_type": "display_data"
    }
   ],
   "source": [
    "plt.figure(figsize=(15, 15))\n",
    "for i in range(L_v_tar.shape[2]):\n",
    "  plt.subplot(7, 7, i+1)\n",
    "  plt.plot(L_v_pred.squeeze().detach().cpu()[:, i], '-o', label='forecast prediction')\n",
    "  plt.plot(L_v_tar.squeeze().detach().cpu()[:, i],'-^', label='forecast target' )\n",
    "plt.savefig(\"output.png\")"
   ]
  },
  {
   "cell_type": "code",
   "execution_count": 20,
   "metadata": {
    "colab": {
     "base_uri": "https://localhost:8080/",
     "height": 443
    },
    "executionInfo": {
     "elapsed": 447,
     "status": "ok",
     "timestamp": 1697963613040,
     "user": {
      "displayName": "Niloofar",
      "userId": "17604302765185403882"
     },
     "user_tz": -210
    },
    "id": "0c4MqschHVmf",
    "outputId": "29c8c32e-449b-46d8-ee04-a824a71046d5"
   },
   "outputs": [
    {
     "data": {
      "text/html": [
       "<div>\n",
       "<style scoped>\n",
       "    .dataframe tbody tr th:only-of-type {\n",
       "        vertical-align: middle;\n",
       "    }\n",
       "\n",
       "    .dataframe tbody tr th {\n",
       "        vertical-align: top;\n",
       "    }\n",
       "\n",
       "    .dataframe thead th {\n",
       "        text-align: right;\n",
       "    }\n",
       "</style>\n",
       "<table border=\"1\" class=\"dataframe\">\n",
       "  <thead>\n",
       "    <tr style=\"text-align: right;\">\n",
       "      <th></th>\n",
       "      <th>0</th>\n",
       "      <th>1</th>\n",
       "      <th>2</th>\n",
       "      <th>3</th>\n",
       "      <th>4</th>\n",
       "      <th>5</th>\n",
       "      <th>6</th>\n",
       "      <th>7</th>\n",
       "      <th>8</th>\n",
       "      <th>9</th>\n",
       "      <th>...</th>\n",
       "      <th>32</th>\n",
       "      <th>33</th>\n",
       "      <th>34</th>\n",
       "      <th>35</th>\n",
       "      <th>36</th>\n",
       "      <th>37</th>\n",
       "      <th>38</th>\n",
       "      <th>39</th>\n",
       "      <th>40</th>\n",
       "      <th>41</th>\n",
       "    </tr>\n",
       "  </thead>\n",
       "  <tbody>\n",
       "    <tr>\n",
       "      <th>0</th>\n",
       "      <td>-179.213013</td>\n",
       "      <td>-259.575256</td>\n",
       "      <td>-287.812042</td>\n",
       "      <td>-388.504883</td>\n",
       "      <td>-424.406799</td>\n",
       "      <td>-371.789551</td>\n",
       "      <td>-480.658081</td>\n",
       "      <td>147.113708</td>\n",
       "      <td>257.032227</td>\n",
       "      <td>281.414978</td>\n",
       "      <td>...</td>\n",
       "      <td>903.659607</td>\n",
       "      <td>849.246887</td>\n",
       "      <td>828.610657</td>\n",
       "      <td>1388.216309</td>\n",
       "      <td>1179.708008</td>\n",
       "      <td>1076.677979</td>\n",
       "      <td>1010.421875</td>\n",
       "      <td>887.363525</td>\n",
       "      <td>836.371338</td>\n",
       "      <td>807.916199</td>\n",
       "    </tr>\n",
       "    <tr>\n",
       "      <th>1</th>\n",
       "      <td>-180.774048</td>\n",
       "      <td>-260.805786</td>\n",
       "      <td>-288.176727</td>\n",
       "      <td>-388.273132</td>\n",
       "      <td>-424.573517</td>\n",
       "      <td>-371.327026</td>\n",
       "      <td>-479.802826</td>\n",
       "      <td>145.715454</td>\n",
       "      <td>254.718811</td>\n",
       "      <td>277.748657</td>\n",
       "      <td>...</td>\n",
       "      <td>898.976440</td>\n",
       "      <td>845.190063</td>\n",
       "      <td>823.512207</td>\n",
       "      <td>1388.473999</td>\n",
       "      <td>1178.989746</td>\n",
       "      <td>1075.772949</td>\n",
       "      <td>1008.467285</td>\n",
       "      <td>884.224426</td>\n",
       "      <td>834.059387</td>\n",
       "      <td>803.863098</td>\n",
       "    </tr>\n",
       "    <tr>\n",
       "      <th>2</th>\n",
       "      <td>-182.278412</td>\n",
       "      <td>-261.981873</td>\n",
       "      <td>-288.469299</td>\n",
       "      <td>-387.853729</td>\n",
       "      <td>-424.486145</td>\n",
       "      <td>-370.595520</td>\n",
       "      <td>-478.666870</td>\n",
       "      <td>144.372009</td>\n",
       "      <td>252.415970</td>\n",
       "      <td>274.122986</td>\n",
       "      <td>...</td>\n",
       "      <td>894.286682</td>\n",
       "      <td>841.165894</td>\n",
       "      <td>818.447021</td>\n",
       "      <td>1388.653564</td>\n",
       "      <td>1178.223755</td>\n",
       "      <td>1074.832397</td>\n",
       "      <td>1006.465393</td>\n",
       "      <td>881.023743</td>\n",
       "      <td>831.705017</td>\n",
       "      <td>799.816956</td>\n",
       "    </tr>\n",
       "    <tr>\n",
       "      <th>3</th>\n",
       "      <td>-183.681244</td>\n",
       "      <td>-263.058807</td>\n",
       "      <td>-288.627869</td>\n",
       "      <td>-387.098785</td>\n",
       "      <td>-423.942688</td>\n",
       "      <td>-369.385315</td>\n",
       "      <td>-477.033173</td>\n",
       "      <td>143.126663</td>\n",
       "      <td>250.132751</td>\n",
       "      <td>270.570526</td>\n",
       "      <td>...</td>\n",
       "      <td>889.603577</td>\n",
       "      <td>837.215881</td>\n",
       "      <td>813.459961</td>\n",
       "      <td>1388.695435</td>\n",
       "      <td>1177.376221</td>\n",
       "      <td>1073.833252</td>\n",
       "      <td>1004.386902</td>\n",
       "      <td>877.724426</td>\n",
       "      <td>829.285278</td>\n",
       "      <td>795.799438</td>\n",
       "    </tr>\n",
       "    <tr>\n",
       "      <th>4</th>\n",
       "      <td>-184.956329</td>\n",
       "      <td>-264.004456</td>\n",
       "      <td>-288.604431</td>\n",
       "      <td>-385.921692</td>\n",
       "      <td>-422.824707</td>\n",
       "      <td>-367.580383</td>\n",
       "      <td>-474.784454</td>\n",
       "      <td>142.004944</td>\n",
       "      <td>247.879349</td>\n",
       "      <td>267.113556</td>\n",
       "      <td>...</td>\n",
       "      <td>884.968994</td>\n",
       "      <td>833.391846</td>\n",
       "      <td>808.608215</td>\n",
       "      <td>1388.571777</td>\n",
       "      <td>1176.436157</td>\n",
       "      <td>1072.772949</td>\n",
       "      <td>1002.230225</td>\n",
       "      <td>874.325806</td>\n",
       "      <td>826.806335</td>\n",
       "      <td>791.849792</td>\n",
       "    </tr>\n",
       "    <tr>\n",
       "      <th>...</th>\n",
       "      <td>...</td>\n",
       "      <td>...</td>\n",
       "      <td>...</td>\n",
       "      <td>...</td>\n",
       "      <td>...</td>\n",
       "      <td>...</td>\n",
       "      <td>...</td>\n",
       "      <td>...</td>\n",
       "      <td>...</td>\n",
       "      <td>...</td>\n",
       "      <td>...</td>\n",
       "      <td>...</td>\n",
       "      <td>...</td>\n",
       "      <td>...</td>\n",
       "      <td>...</td>\n",
       "      <td>...</td>\n",
       "      <td>...</td>\n",
       "      <td>...</td>\n",
       "      <td>...</td>\n",
       "      <td>...</td>\n",
       "      <td>...</td>\n",
       "    </tr>\n",
       "    <tr>\n",
       "      <th>96</th>\n",
       "      <td>245.282715</td>\n",
       "      <td>269.783936</td>\n",
       "      <td>334.988220</td>\n",
       "      <td>470.032715</td>\n",
       "      <td>524.554077</td>\n",
       "      <td>476.201324</td>\n",
       "      <td>586.920593</td>\n",
       "      <td>279.242035</td>\n",
       "      <td>333.368805</td>\n",
       "      <td>371.715637</td>\n",
       "      <td>...</td>\n",
       "      <td>353.136566</td>\n",
       "      <td>296.238220</td>\n",
       "      <td>284.030884</td>\n",
       "      <td>797.619080</td>\n",
       "      <td>626.446045</td>\n",
       "      <td>523.706726</td>\n",
       "      <td>468.589905</td>\n",
       "      <td>349.708252</td>\n",
       "      <td>297.505981</td>\n",
       "      <td>269.061157</td>\n",
       "    </tr>\n",
       "    <tr>\n",
       "      <th>97</th>\n",
       "      <td>245.952271</td>\n",
       "      <td>270.444855</td>\n",
       "      <td>335.445312</td>\n",
       "      <td>470.822937</td>\n",
       "      <td>525.636963</td>\n",
       "      <td>477.378937</td>\n",
       "      <td>588.173584</td>\n",
       "      <td>279.412598</td>\n",
       "      <td>332.682312</td>\n",
       "      <td>371.155609</td>\n",
       "      <td>...</td>\n",
       "      <td>350.382965</td>\n",
       "      <td>293.412842</td>\n",
       "      <td>280.768677</td>\n",
       "      <td>793.963928</td>\n",
       "      <td>622.159668</td>\n",
       "      <td>519.463013</td>\n",
       "      <td>465.438232</td>\n",
       "      <td>348.083130</td>\n",
       "      <td>294.949097</td>\n",
       "      <td>267.135437</td>\n",
       "    </tr>\n",
       "    <tr>\n",
       "      <th>98</th>\n",
       "      <td>246.454803</td>\n",
       "      <td>270.723297</td>\n",
       "      <td>335.251862</td>\n",
       "      <td>471.026672</td>\n",
       "      <td>525.920410</td>\n",
       "      <td>477.840057</td>\n",
       "      <td>588.753967</td>\n",
       "      <td>279.529785</td>\n",
       "      <td>331.915405</td>\n",
       "      <td>370.559143</td>\n",
       "      <td>...</td>\n",
       "      <td>348.008942</td>\n",
       "      <td>290.876160</td>\n",
       "      <td>278.230743</td>\n",
       "      <td>790.768677</td>\n",
       "      <td>618.168701</td>\n",
       "      <td>515.563721</td>\n",
       "      <td>462.766357</td>\n",
       "      <td>346.927734</td>\n",
       "      <td>292.981018</td>\n",
       "      <td>265.579163</td>\n",
       "    </tr>\n",
       "    <tr>\n",
       "      <th>99</th>\n",
       "      <td>246.821533</td>\n",
       "      <td>270.692505</td>\n",
       "      <td>334.538391</td>\n",
       "      <td>470.756531</td>\n",
       "      <td>525.553345</td>\n",
       "      <td>477.706940</td>\n",
       "      <td>588.775757</td>\n",
       "      <td>279.593994</td>\n",
       "      <td>331.098572</td>\n",
       "      <td>369.954071</td>\n",
       "      <td>...</td>\n",
       "      <td>345.963745</td>\n",
       "      <td>288.597046</td>\n",
       "      <td>276.312836</td>\n",
       "      <td>787.964478</td>\n",
       "      <td>614.455383</td>\n",
       "      <td>511.982971</td>\n",
       "      <td>460.510162</td>\n",
       "      <td>346.143005</td>\n",
       "      <td>291.498047</td>\n",
       "      <td>264.287598</td>\n",
       "    </tr>\n",
       "    <tr>\n",
       "      <th>100</th>\n",
       "      <td>247.078369</td>\n",
       "      <td>270.449585</td>\n",
       "      <td>333.484894</td>\n",
       "      <td>470.163452</td>\n",
       "      <td>524.754639</td>\n",
       "      <td>477.176483</td>\n",
       "      <td>588.421265</td>\n",
       "      <td>279.610474</td>\n",
       "      <td>330.219635</td>\n",
       "      <td>369.299744</td>\n",
       "      <td>...</td>\n",
       "      <td>344.198486</td>\n",
       "      <td>286.557922</td>\n",
       "      <td>274.850494</td>\n",
       "      <td>785.483032</td>\n",
       "      <td>610.994385</td>\n",
       "      <td>508.672821</td>\n",
       "      <td>458.574860</td>\n",
       "      <td>345.652222</td>\n",
       "      <td>290.371887</td>\n",
       "      <td>263.221985</td>\n",
       "    </tr>\n",
       "  </tbody>\n",
       "</table>\n",
       "<p>101 rows × 42 columns</p>\n",
       "</div>"
      ],
      "text/plain": [
       "             0           1           2           3           4           5   \\\n",
       "0   -179.213013 -259.575256 -287.812042 -388.504883 -424.406799 -371.789551   \n",
       "1   -180.774048 -260.805786 -288.176727 -388.273132 -424.573517 -371.327026   \n",
       "2   -182.278412 -261.981873 -288.469299 -387.853729 -424.486145 -370.595520   \n",
       "3   -183.681244 -263.058807 -288.627869 -387.098785 -423.942688 -369.385315   \n",
       "4   -184.956329 -264.004456 -288.604431 -385.921692 -422.824707 -367.580383   \n",
       "..          ...         ...         ...         ...         ...         ...   \n",
       "96   245.282715  269.783936  334.988220  470.032715  524.554077  476.201324   \n",
       "97   245.952271  270.444855  335.445312  470.822937  525.636963  477.378937   \n",
       "98   246.454803  270.723297  335.251862  471.026672  525.920410  477.840057   \n",
       "99   246.821533  270.692505  334.538391  470.756531  525.553345  477.706940   \n",
       "100  247.078369  270.449585  333.484894  470.163452  524.754639  477.176483   \n",
       "\n",
       "             6           7           8           9   ...          32  \\\n",
       "0   -480.658081  147.113708  257.032227  281.414978  ...  903.659607   \n",
       "1   -479.802826  145.715454  254.718811  277.748657  ...  898.976440   \n",
       "2   -478.666870  144.372009  252.415970  274.122986  ...  894.286682   \n",
       "3   -477.033173  143.126663  250.132751  270.570526  ...  889.603577   \n",
       "4   -474.784454  142.004944  247.879349  267.113556  ...  884.968994   \n",
       "..          ...         ...         ...         ...  ...         ...   \n",
       "96   586.920593  279.242035  333.368805  371.715637  ...  353.136566   \n",
       "97   588.173584  279.412598  332.682312  371.155609  ...  350.382965   \n",
       "98   588.753967  279.529785  331.915405  370.559143  ...  348.008942   \n",
       "99   588.775757  279.593994  331.098572  369.954071  ...  345.963745   \n",
       "100  588.421265  279.610474  330.219635  369.299744  ...  344.198486   \n",
       "\n",
       "             33          34           35           36           37  \\\n",
       "0    849.246887  828.610657  1388.216309  1179.708008  1076.677979   \n",
       "1    845.190063  823.512207  1388.473999  1178.989746  1075.772949   \n",
       "2    841.165894  818.447021  1388.653564  1178.223755  1074.832397   \n",
       "3    837.215881  813.459961  1388.695435  1177.376221  1073.833252   \n",
       "4    833.391846  808.608215  1388.571777  1176.436157  1072.772949   \n",
       "..          ...         ...          ...          ...          ...   \n",
       "96   296.238220  284.030884   797.619080   626.446045   523.706726   \n",
       "97   293.412842  280.768677   793.963928   622.159668   519.463013   \n",
       "98   290.876160  278.230743   790.768677   618.168701   515.563721   \n",
       "99   288.597046  276.312836   787.964478   614.455383   511.982971   \n",
       "100  286.557922  274.850494   785.483032   610.994385   508.672821   \n",
       "\n",
       "              38          39          40          41  \n",
       "0    1010.421875  887.363525  836.371338  807.916199  \n",
       "1    1008.467285  884.224426  834.059387  803.863098  \n",
       "2    1006.465393  881.023743  831.705017  799.816956  \n",
       "3    1004.386902  877.724426  829.285278  795.799438  \n",
       "4    1002.230225  874.325806  826.806335  791.849792  \n",
       "..           ...         ...         ...         ...  \n",
       "96    468.589905  349.708252  297.505981  269.061157  \n",
       "97    465.438232  348.083130  294.949097  267.135437  \n",
       "98    462.766357  346.927734  292.981018  265.579163  \n",
       "99    460.510162  346.143005  291.498047  264.287598  \n",
       "100   458.574860  345.652222  290.371887  263.221985  \n",
       "\n",
       "[101 rows x 42 columns]"
      ]
     },
     "execution_count": 20,
     "metadata": {},
     "output_type": "execute_result"
    }
   ],
   "source": [
    "tartar = pd.DataFrame(L_v_tar.cpu().squeeze())\n",
    "tartar"
   ]
  },
  {
   "cell_type": "code",
   "execution_count": 21,
   "metadata": {
    "executionInfo": {
     "elapsed": 2,
     "status": "ok",
     "timestamp": 1697963613492,
     "user": {
      "displayName": "Niloofar",
      "userId": "17604302765185403882"
     },
     "user_tz": -210
    },
    "id": "YFmdAT2oHjg4"
   },
   "outputs": [],
   "source": [
    "tartar.to_csv('arm_tar.csv')"
   ]
  },
  {
   "cell_type": "code",
   "execution_count": 22,
   "metadata": {
    "colab": {
     "base_uri": "https://localhost:8080/",
     "height": 443
    },
    "executionInfo": {
     "elapsed": 13,
     "status": "ok",
     "timestamp": 1697963613969,
     "user": {
      "displayName": "Niloofar",
      "userId": "17604302765185403882"
     },
     "user_tz": -210
    },
    "id": "NUXaiXziH-Qu",
    "outputId": "3520f0ba-f597-43b7-933a-3903f4172c08"
   },
   "outputs": [
    {
     "data": {
      "text/html": [
       "<div>\n",
       "<style scoped>\n",
       "    .dataframe tbody tr th:only-of-type {\n",
       "        vertical-align: middle;\n",
       "    }\n",
       "\n",
       "    .dataframe tbody tr th {\n",
       "        vertical-align: top;\n",
       "    }\n",
       "\n",
       "    .dataframe thead th {\n",
       "        text-align: right;\n",
       "    }\n",
       "</style>\n",
       "<table border=\"1\" class=\"dataframe\">\n",
       "  <thead>\n",
       "    <tr style=\"text-align: right;\">\n",
       "      <th></th>\n",
       "      <th>0</th>\n",
       "      <th>1</th>\n",
       "      <th>2</th>\n",
       "      <th>3</th>\n",
       "      <th>4</th>\n",
       "      <th>5</th>\n",
       "      <th>6</th>\n",
       "      <th>7</th>\n",
       "      <th>8</th>\n",
       "      <th>9</th>\n",
       "      <th>...</th>\n",
       "      <th>32</th>\n",
       "      <th>33</th>\n",
       "      <th>34</th>\n",
       "      <th>35</th>\n",
       "      <th>36</th>\n",
       "      <th>37</th>\n",
       "      <th>38</th>\n",
       "      <th>39</th>\n",
       "      <th>40</th>\n",
       "      <th>41</th>\n",
       "    </tr>\n",
       "  </thead>\n",
       "  <tbody>\n",
       "    <tr>\n",
       "      <th>0</th>\n",
       "      <td>-179.213013</td>\n",
       "      <td>-259.575256</td>\n",
       "      <td>-287.812042</td>\n",
       "      <td>-388.504883</td>\n",
       "      <td>-424.406799</td>\n",
       "      <td>-371.789551</td>\n",
       "      <td>-480.658081</td>\n",
       "      <td>147.113708</td>\n",
       "      <td>257.032227</td>\n",
       "      <td>281.414978</td>\n",
       "      <td>...</td>\n",
       "      <td>903.659607</td>\n",
       "      <td>849.246887</td>\n",
       "      <td>828.610657</td>\n",
       "      <td>1388.216309</td>\n",
       "      <td>1179.708008</td>\n",
       "      <td>1076.677979</td>\n",
       "      <td>1010.421875</td>\n",
       "      <td>887.363525</td>\n",
       "      <td>836.371338</td>\n",
       "      <td>807.916199</td>\n",
       "    </tr>\n",
       "    <tr>\n",
       "      <th>1</th>\n",
       "      <td>-180.774048</td>\n",
       "      <td>-260.805786</td>\n",
       "      <td>-288.176727</td>\n",
       "      <td>-388.273132</td>\n",
       "      <td>-424.573517</td>\n",
       "      <td>-371.327026</td>\n",
       "      <td>-479.802826</td>\n",
       "      <td>145.715454</td>\n",
       "      <td>254.718811</td>\n",
       "      <td>277.748657</td>\n",
       "      <td>...</td>\n",
       "      <td>898.976440</td>\n",
       "      <td>845.190063</td>\n",
       "      <td>823.512207</td>\n",
       "      <td>1388.473999</td>\n",
       "      <td>1178.989746</td>\n",
       "      <td>1075.772949</td>\n",
       "      <td>1008.467285</td>\n",
       "      <td>884.224426</td>\n",
       "      <td>834.059387</td>\n",
       "      <td>803.863098</td>\n",
       "    </tr>\n",
       "    <tr>\n",
       "      <th>2</th>\n",
       "      <td>-182.278412</td>\n",
       "      <td>-261.981873</td>\n",
       "      <td>-288.469299</td>\n",
       "      <td>-387.853729</td>\n",
       "      <td>-424.486145</td>\n",
       "      <td>-370.595520</td>\n",
       "      <td>-478.666870</td>\n",
       "      <td>144.372009</td>\n",
       "      <td>252.415970</td>\n",
       "      <td>274.122986</td>\n",
       "      <td>...</td>\n",
       "      <td>894.286682</td>\n",
       "      <td>841.165894</td>\n",
       "      <td>818.447021</td>\n",
       "      <td>1388.653564</td>\n",
       "      <td>1178.223755</td>\n",
       "      <td>1074.832397</td>\n",
       "      <td>1006.465393</td>\n",
       "      <td>881.023743</td>\n",
       "      <td>831.705017</td>\n",
       "      <td>799.816956</td>\n",
       "    </tr>\n",
       "    <tr>\n",
       "      <th>3</th>\n",
       "      <td>-183.681244</td>\n",
       "      <td>-263.058807</td>\n",
       "      <td>-288.627869</td>\n",
       "      <td>-387.098785</td>\n",
       "      <td>-423.942688</td>\n",
       "      <td>-369.385315</td>\n",
       "      <td>-477.033173</td>\n",
       "      <td>143.126663</td>\n",
       "      <td>250.132751</td>\n",
       "      <td>270.570526</td>\n",
       "      <td>...</td>\n",
       "      <td>889.603577</td>\n",
       "      <td>837.215881</td>\n",
       "      <td>813.459961</td>\n",
       "      <td>1388.695435</td>\n",
       "      <td>1177.376221</td>\n",
       "      <td>1073.833252</td>\n",
       "      <td>1004.386902</td>\n",
       "      <td>877.724426</td>\n",
       "      <td>829.285278</td>\n",
       "      <td>795.799438</td>\n",
       "    </tr>\n",
       "    <tr>\n",
       "      <th>4</th>\n",
       "      <td>-184.956329</td>\n",
       "      <td>-264.004456</td>\n",
       "      <td>-288.604431</td>\n",
       "      <td>-385.921692</td>\n",
       "      <td>-422.824707</td>\n",
       "      <td>-367.580383</td>\n",
       "      <td>-474.784454</td>\n",
       "      <td>142.004944</td>\n",
       "      <td>247.879349</td>\n",
       "      <td>267.113556</td>\n",
       "      <td>...</td>\n",
       "      <td>884.968994</td>\n",
       "      <td>833.391846</td>\n",
       "      <td>808.608215</td>\n",
       "      <td>1388.571777</td>\n",
       "      <td>1176.436157</td>\n",
       "      <td>1072.772949</td>\n",
       "      <td>1002.230225</td>\n",
       "      <td>874.325806</td>\n",
       "      <td>826.806335</td>\n",
       "      <td>791.849792</td>\n",
       "    </tr>\n",
       "    <tr>\n",
       "      <th>...</th>\n",
       "      <td>...</td>\n",
       "      <td>...</td>\n",
       "      <td>...</td>\n",
       "      <td>...</td>\n",
       "      <td>...</td>\n",
       "      <td>...</td>\n",
       "      <td>...</td>\n",
       "      <td>...</td>\n",
       "      <td>...</td>\n",
       "      <td>...</td>\n",
       "      <td>...</td>\n",
       "      <td>...</td>\n",
       "      <td>...</td>\n",
       "      <td>...</td>\n",
       "      <td>...</td>\n",
       "      <td>...</td>\n",
       "      <td>...</td>\n",
       "      <td>...</td>\n",
       "      <td>...</td>\n",
       "      <td>...</td>\n",
       "      <td>...</td>\n",
       "    </tr>\n",
       "    <tr>\n",
       "      <th>96</th>\n",
       "      <td>18.771385</td>\n",
       "      <td>39.131516</td>\n",
       "      <td>153.717346</td>\n",
       "      <td>316.941925</td>\n",
       "      <td>396.325409</td>\n",
       "      <td>360.502930</td>\n",
       "      <td>452.051819</td>\n",
       "      <td>204.031235</td>\n",
       "      <td>317.953735</td>\n",
       "      <td>362.806274</td>\n",
       "      <td>...</td>\n",
       "      <td>460.653717</td>\n",
       "      <td>407.953674</td>\n",
       "      <td>434.469757</td>\n",
       "      <td>753.798096</td>\n",
       "      <td>596.974243</td>\n",
       "      <td>507.631622</td>\n",
       "      <td>453.513214</td>\n",
       "      <td>365.445953</td>\n",
       "      <td>326.415985</td>\n",
       "      <td>313.913452</td>\n",
       "    </tr>\n",
       "    <tr>\n",
       "      <th>97</th>\n",
       "      <td>18.665108</td>\n",
       "      <td>38.979660</td>\n",
       "      <td>153.500183</td>\n",
       "      <td>316.429352</td>\n",
       "      <td>395.999603</td>\n",
       "      <td>359.799103</td>\n",
       "      <td>451.474670</td>\n",
       "      <td>203.946457</td>\n",
       "      <td>317.459167</td>\n",
       "      <td>362.260681</td>\n",
       "      <td>...</td>\n",
       "      <td>460.050751</td>\n",
       "      <td>407.601898</td>\n",
       "      <td>433.581085</td>\n",
       "      <td>754.976074</td>\n",
       "      <td>598.144958</td>\n",
       "      <td>508.958038</td>\n",
       "      <td>454.184021</td>\n",
       "      <td>365.349579</td>\n",
       "      <td>326.873383</td>\n",
       "      <td>313.481812</td>\n",
       "    </tr>\n",
       "    <tr>\n",
       "      <th>98</th>\n",
       "      <td>18.552681</td>\n",
       "      <td>38.792145</td>\n",
       "      <td>153.201691</td>\n",
       "      <td>315.821564</td>\n",
       "      <td>395.573578</td>\n",
       "      <td>358.974396</td>\n",
       "      <td>450.786377</td>\n",
       "      <td>203.879486</td>\n",
       "      <td>316.984558</td>\n",
       "      <td>361.733215</td>\n",
       "      <td>...</td>\n",
       "      <td>459.490234</td>\n",
       "      <td>407.305206</td>\n",
       "      <td>432.718689</td>\n",
       "      <td>756.284485</td>\n",
       "      <td>599.414795</td>\n",
       "      <td>510.369873</td>\n",
       "      <td>454.932739</td>\n",
       "      <td>365.328125</td>\n",
       "      <td>327.400604</td>\n",
       "      <td>313.108612</td>\n",
       "    </tr>\n",
       "    <tr>\n",
       "      <th>99</th>\n",
       "      <td>18.411003</td>\n",
       "      <td>38.634857</td>\n",
       "      <td>152.769684</td>\n",
       "      <td>315.070618</td>\n",
       "      <td>395.013763</td>\n",
       "      <td>358.125153</td>\n",
       "      <td>449.955444</td>\n",
       "      <td>203.825424</td>\n",
       "      <td>316.573608</td>\n",
       "      <td>361.209717</td>\n",
       "      <td>...</td>\n",
       "      <td>458.866211</td>\n",
       "      <td>406.990753</td>\n",
       "      <td>431.760376</td>\n",
       "      <td>757.788940</td>\n",
       "      <td>600.862427</td>\n",
       "      <td>511.769379</td>\n",
       "      <td>455.795868</td>\n",
       "      <td>365.371185</td>\n",
       "      <td>328.033356</td>\n",
       "      <td>312.757111</td>\n",
       "    </tr>\n",
       "    <tr>\n",
       "      <th>100</th>\n",
       "      <td>18.260582</td>\n",
       "      <td>38.486008</td>\n",
       "      <td>152.246277</td>\n",
       "      <td>314.223663</td>\n",
       "      <td>394.372406</td>\n",
       "      <td>357.230408</td>\n",
       "      <td>449.034058</td>\n",
       "      <td>203.790619</td>\n",
       "      <td>316.200043</td>\n",
       "      <td>360.698608</td>\n",
       "      <td>...</td>\n",
       "      <td>458.220001</td>\n",
       "      <td>406.685699</td>\n",
       "      <td>430.753906</td>\n",
       "      <td>759.434143</td>\n",
       "      <td>602.412354</td>\n",
       "      <td>513.179504</td>\n",
       "      <td>456.732697</td>\n",
       "      <td>365.471954</td>\n",
       "      <td>328.745300</td>\n",
       "      <td>312.442139</td>\n",
       "    </tr>\n",
       "  </tbody>\n",
       "</table>\n",
       "<p>101 rows × 42 columns</p>\n",
       "</div>"
      ],
      "text/plain": [
       "             0           1           2           3           4           5   \\\n",
       "0   -179.213013 -259.575256 -287.812042 -388.504883 -424.406799 -371.789551   \n",
       "1   -180.774048 -260.805786 -288.176727 -388.273132 -424.573517 -371.327026   \n",
       "2   -182.278412 -261.981873 -288.469299 -387.853729 -424.486145 -370.595520   \n",
       "3   -183.681244 -263.058807 -288.627869 -387.098785 -423.942688 -369.385315   \n",
       "4   -184.956329 -264.004456 -288.604431 -385.921692 -422.824707 -367.580383   \n",
       "..          ...         ...         ...         ...         ...         ...   \n",
       "96    18.771385   39.131516  153.717346  316.941925  396.325409  360.502930   \n",
       "97    18.665108   38.979660  153.500183  316.429352  395.999603  359.799103   \n",
       "98    18.552681   38.792145  153.201691  315.821564  395.573578  358.974396   \n",
       "99    18.411003   38.634857  152.769684  315.070618  395.013763  358.125153   \n",
       "100   18.260582   38.486008  152.246277  314.223663  394.372406  357.230408   \n",
       "\n",
       "             6           7           8           9   ...          32  \\\n",
       "0   -480.658081  147.113708  257.032227  281.414978  ...  903.659607   \n",
       "1   -479.802826  145.715454  254.718811  277.748657  ...  898.976440   \n",
       "2   -478.666870  144.372009  252.415970  274.122986  ...  894.286682   \n",
       "3   -477.033173  143.126663  250.132751  270.570526  ...  889.603577   \n",
       "4   -474.784454  142.004944  247.879349  267.113556  ...  884.968994   \n",
       "..          ...         ...         ...         ...  ...         ...   \n",
       "96   452.051819  204.031235  317.953735  362.806274  ...  460.653717   \n",
       "97   451.474670  203.946457  317.459167  362.260681  ...  460.050751   \n",
       "98   450.786377  203.879486  316.984558  361.733215  ...  459.490234   \n",
       "99   449.955444  203.825424  316.573608  361.209717  ...  458.866211   \n",
       "100  449.034058  203.790619  316.200043  360.698608  ...  458.220001   \n",
       "\n",
       "             33          34           35           36           37  \\\n",
       "0    849.246887  828.610657  1388.216309  1179.708008  1076.677979   \n",
       "1    845.190063  823.512207  1388.473999  1178.989746  1075.772949   \n",
       "2    841.165894  818.447021  1388.653564  1178.223755  1074.832397   \n",
       "3    837.215881  813.459961  1388.695435  1177.376221  1073.833252   \n",
       "4    833.391846  808.608215  1388.571777  1176.436157  1072.772949   \n",
       "..          ...         ...          ...          ...          ...   \n",
       "96   407.953674  434.469757   753.798096   596.974243   507.631622   \n",
       "97   407.601898  433.581085   754.976074   598.144958   508.958038   \n",
       "98   407.305206  432.718689   756.284485   599.414795   510.369873   \n",
       "99   406.990753  431.760376   757.788940   600.862427   511.769379   \n",
       "100  406.685699  430.753906   759.434143   602.412354   513.179504   \n",
       "\n",
       "              38          39          40          41  \n",
       "0    1010.421875  887.363525  836.371338  807.916199  \n",
       "1    1008.467285  884.224426  834.059387  803.863098  \n",
       "2    1006.465393  881.023743  831.705017  799.816956  \n",
       "3    1004.386902  877.724426  829.285278  795.799438  \n",
       "4    1002.230225  874.325806  826.806335  791.849792  \n",
       "..           ...         ...         ...         ...  \n",
       "96    453.513214  365.445953  326.415985  313.913452  \n",
       "97    454.184021  365.349579  326.873383  313.481812  \n",
       "98    454.932739  365.328125  327.400604  313.108612  \n",
       "99    455.795868  365.371185  328.033356  312.757111  \n",
       "100   456.732697  365.471954  328.745300  312.442139  \n",
       "\n",
       "[101 rows x 42 columns]"
      ]
     },
     "execution_count": 22,
     "metadata": {},
     "output_type": "execute_result"
    }
   ],
   "source": [
    "per = pd.DataFrame(L_v_pred.cpu().squeeze())\n",
    "per"
   ]
  },
  {
   "cell_type": "code",
   "execution_count": 23,
   "metadata": {
    "executionInfo": {
     "elapsed": 13,
     "status": "ok",
     "timestamp": 1697963614425,
     "user": {
      "displayName": "Niloofar",
      "userId": "17604302765185403882"
     },
     "user_tz": -210
    },
    "id": "i0Su8LbNIKY3"
   },
   "outputs": [],
   "source": [
    "per.to_csv('arm_per.csv')"
   ]
  },
  {
   "cell_type": "code",
   "execution_count": 53,
   "metadata": {
    "colab": {
     "base_uri": "https://localhost:8080/",
     "height": 36
    },
    "executionInfo": {
     "elapsed": 433,
     "status": "ok",
     "timestamp": 1697963622973,
     "user": {
      "displayName": "Niloofar",
      "userId": "17604302765185403882"
     },
     "user_tz": -210
    },
    "id": "GVAN3yiaIQlW",
    "outputId": "0e1c152f-0fcb-4465-f49e-63a93c5a27ad"
   },
   "outputs": [
    {
     "data": {
      "text/plain": [
       "'C:/Niloofar/SCR/posture-prediction-models-main/data/data_20_4_2025/Normalized\\\\s13_fn\\\\s13_97_fn.csv'"
      ]
     },
     "execution_count": 53,
     "metadata": {},
     "output_type": "execute_result"
    }
   ],
   "source": [
    "my_path_list[200]"
   ]
  },
  {
   "cell_type": "code",
   "execution_count": null,
   "metadata": {
    "id": "Mqm4QwFIIoIb"
   },
   "outputs": [],
   "source": []
  }
 ],
 "metadata": {
  "accelerator": "GPU",
  "colab": {
   "collapsed_sections": [
    "jST4Us3t1l41",
    "437VYG2yJkqK"
   ],
   "provenance": []
  },
  "kernelspec": {
   "display_name": "Niloo_Proj",
   "language": "python",
   "name": "python3"
  },
  "language_info": {
   "codemirror_mode": {
    "name": "ipython",
    "version": 3
   },
   "file_extension": ".py",
   "mimetype": "text/x-python",
   "name": "python",
   "nbconvert_exporter": "python",
   "pygments_lexer": "ipython3",
   "version": "3.9.21"
  }
 },
 "nbformat": 4,
 "nbformat_minor": 0
}
