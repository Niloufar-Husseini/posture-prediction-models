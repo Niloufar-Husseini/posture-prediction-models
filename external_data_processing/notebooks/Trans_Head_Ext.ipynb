{
 "cells": [
  {
   "cell_type": "code",
   "execution_count": 1,
   "metadata": {
    "colab": {
     "base_uri": "https://localhost:8080/"
    },
    "executionInfo": {
     "elapsed": 26760,
     "status": "ok",
     "timestamp": 1697963926080,
     "user": {
      "displayName": "Niloofar",
      "userId": "17604302765185403882"
     },
     "user_tz": -210
    },
    "id": "FS8euL2B47Nj",
    "outputId": "004bc01c-d2cb-41fb-d949-a2c0bedecb10",
    "tags": []
   },
   "outputs": [],
   "source": [
    "import numpy as np\n",
    "import torch\n",
    "import os\n",
    "import pandas as pd\n",
    "import itertools as it\n",
    "from torch.utils.data import Dataset, DataLoader\n",
    "import torch.nn as nn\n",
    "from torchvision import transforms\n",
    "import matplotlib.pyplot as plt\n",
    "from sklearn.metrics import r2_score\n",
    "from sklearn.preprocessing import StandardScaler\n",
    "\n",
    "\n",
    "\n",
    "# from google.colab import drive\n",
    "# drive.mount('/content/drive')"
   ]
  },
  {
   "cell_type": "code",
   "execution_count": 2,
   "metadata": {
    "executionInfo": {
     "elapsed": 487,
     "status": "ok",
     "timestamp": 1697963926564,
     "user": {
      "displayName": "Niloofar",
      "userId": "17604302765185403882"
     },
     "user_tz": -210
    },
    "id": "uXkmdsfg-Hi3"
   },
   "outputs": [],
   "source": [
    "# !cp /content/drive/MyDrive/Models/utils_no_KC.py .\n",
    "\n",
    "import sys\n",
    "from pathlib import Path\n",
    "sys.path.append(str(Path(\"../../src\").resolve()))\n",
    "\n",
    "from utils_no_KC import *\n",
    "\n",
    "# !pip install optuna\n",
    "# import optuna"
   ]
  },
  {
   "cell_type": "code",
   "execution_count": 3,
   "metadata": {
    "colab": {
     "base_uri": "https://localhost:8080/"
    },
    "executionInfo": {
     "elapsed": 8201,
     "status": "ok",
     "timestamp": 1697963934763,
     "user": {
      "displayName": "Niloofar",
      "userId": "17604302765185403882"
     },
     "user_tz": -210
    },
    "id": "asH7QHF3JV_b",
    "outputId": "2740bef0-5b71-4ed6-ea55-7cd517b0c512",
    "tags": []
   },
   "outputs": [],
   "source": [
    "# !pip install positional-encodings[pytorch]\n",
    "from positional_encodings.torch_encodings import PositionalEncoding1D, Summer"
   ]
  },
  {
   "cell_type": "code",
   "execution_count": 4,
   "metadata": {
    "executionInfo": {
     "elapsed": 4,
     "status": "ok",
     "timestamp": 1697963934763,
     "user": {
      "displayName": "Niloofar",
      "userId": "17604302765185403882"
     },
     "user_tz": -210
    },
    "id": "vCPoOb_HXu_D"
   },
   "outputs": [],
   "source": [
    "def read_range(f_path, segment_index, device):\n",
    "    \"\"\"\n",
    "    Reads a specific segment of data from a CSV file, reshapes it, and transfers it to the specified device.\n",
    "\n",
    "    Args:\n",
    "    f_path (str): The path to the CSV file.\n",
    "    segment_index (int): The index of the segment to extract from the CSV.\n",
    "    device (torch.device): The device to transfer the data to (CPU or GPU).\n",
    "\n",
    "    Returns:\n",
    "    torch.Tensor: The extracted and reshaped data transferred to the specified device.\n",
    "    \"\"\"\n",
    "    sub_dif = pd.read_csv(f_path, header=None).iloc[:, segment_index]\n",
    "    sub_dif = sub_dif.reset_index(inplace=False, drop=True)\n",
    "    sub_dif = sub_dif.to_numpy().reshape(-1, len(segment_index)*3)\n",
    "    sub_dif = torch.from_numpy(sub_dif).to(device)\n",
    "    return sub_dif\n",
    "\n",
    "def nRMSE_compute(L_tar_data, L_pred_data, my_range_data, Test_List_data, input_frames_data, segment_len_data, device):\n",
    "    \"\"\"\n",
    "    Compute the normalized Root Mean Squared Error (nRMSE) between the target and predicted data.\n",
    "\n",
    "    Args:\n",
    "    L_tar_data (torch.Tensor): The target values (actual data).\n",
    "    L_pred_data (torch.Tensor): The predicted values.\n",
    "    my_range_data (torch.Tensor): The range data for normalization.\n",
    "    Test_List_data (list): List of test data for determining the number of samples.\n",
    "    input_frames_data (int): The number of input frames used for the prediction.\n",
    "    segment_len_data (int): The length of each segment in the data.\n",
    "    device (torch.device): The device on which the tensors are located (CPU or GPU).\n",
    "\n",
    "    Returns:\n",
    "    torch.Tensor: The computed normalized RMSE value.\n",
    "    \"\"\"\n",
    "    \n",
    "    # Compute squared error between target and predicted values, normalized by range data\n",
    "    normalized_error = (L_tar_data.to(device) - L_pred_data.to(device)) / my_range_data.to(device)\n",
    "    squared_error = torch.sum(torch.sum(normalized_error ** 2))\n",
    "    \n",
    "    # Normalize the total squared error by the number of samples and compute the square root\n",
    "    num_samples = len(Test_List_data) * (101 - input_frames_data) * segment_len_data\n",
    "    nrmse = torch.sqrt(squared_error / num_samples)\n",
    "    \n",
    "    return nrmse\n",
    "\n",
    "\n",
    "def RMSE_compute(L_tar_data, L_pred_data, Test_List_data, input_frames_data, segment_len_data, device):\n",
    "    \"\"\"\n",
    "    Compute the Root Mean Squared Error (RMSE) between the target and predicted data.\n",
    "\n",
    "    Args:\n",
    "    L_tar_data (torch.Tensor): The target values (actual data).\n",
    "    L_pred_data (torch.Tensor): The predicted values.\n",
    "    Test_List_data (list): List of test data for determining the number of samples.\n",
    "    input_frames_data (int): The number of input frames used for the prediction.\n",
    "    segment_len_data (int): The length of each segment in the data.\n",
    "    device (torch.device): The device on which the tensors are located (CPU or GPU).\n",
    "\n",
    "    Returns:\n",
    "    torch.Tensor: The computed RMSE value.\n",
    "    \"\"\"\n",
    "    # Calculate squared error between target and predicted data, then sum it up\n",
    "    squared_error = (L_tar_data.to(device) - L_pred_data.to(device))**2\n",
    "    tot_loss = torch.sum(torch.sum(squared_error))\n",
    "    \n",
    "    # Normalize the total squared error by the number of samples and compute the square root\n",
    "    num_samples = len(Test_List_data) * (101 - input_frames_data) * segment_len_data\n",
    "    tot_loss = torch.sqrt(tot_loss / num_samples)\n",
    "\n",
    "    return tot_loss\n",
    "\n",
    "\n",
    "def r2_compute(L_tar_data, L_pred_data):\n",
    "    \"\"\"\n",
    "    Compute the R² (coefficient of determination) score between the true and predicted values,\n",
    "    after scaling both using the StandardScaler.\n",
    "\n",
    "    Args:\n",
    "    L_tar (numpy.ndarray or torch.Tensor): The true values.\n",
    "    L_pred (numpy.ndarray or torch.Tensor): The predicted values.\n",
    "\n",
    "    Returns:\n",
    "    float: The R² score, a measure of the goodness of fit.\n",
    "    \"\"\"\n",
    "    # Ensure that input data is in the correct shape (2D array) for scaling\n",
    "    scaler = StandardScaler()\n",
    "\n",
    "    # Reshape and scale the true and predicted values\n",
    "    scaled_y_true = scaler.fit_transform(L_tar_data.reshape(-1, 1))\n",
    "    scaled_y_pred = scaler.transform(L_pred_data.reshape(-1, 1))\n",
    "\n",
    "    # Compute the R² score\n",
    "    r2 = r2_score(scaled_y_true, scaled_y_pred)\n",
    "\n",
    "    return r2"
   ]
  },
  {
   "cell_type": "code",
   "execution_count": 5,
   "metadata": {
    "executionInfo": {
     "elapsed": 4,
     "status": "ok",
     "timestamp": 1697963934763,
     "user": {
      "displayName": "Niloofar",
      "userId": "17604302765185403882"
     },
     "user_tz": -210
    },
    "id": "t4xvKjc6Z3Ly"
   },
   "outputs": [],
   "source": [
    "input_frames, predicted_frames, my_stride = 25, 1, 1\n",
    "num_of_sub = 1\n",
    "val_sub = []\n",
    "test_sub = [1, 6, 7, 8, 9]\n",
    "test_sub_1 = [1]\n",
    "test_sub_2 = [6]\n",
    "test_sub_3 = [7]\n",
    "test_sub_4 = [8]\n",
    "test_sub_5 = [9]\n",
    "segment_inds = [0, 1, 2, 3]\n",
    "body_segment_name = 'Head'"
   ]
  },
  {
   "cell_type": "code",
   "execution_count": 6,
   "metadata": {
    "executionInfo": {
     "elapsed": 4,
     "status": "ok",
     "timestamp": 1697963935322,
     "user": {
      "displayName": "Niloofar",
      "userId": "17604302765185403882"
     },
     "user_tz": -210
    },
    "id": "Z9pJw_8f9pYV"
   },
   "outputs": [],
   "source": [
    "# path to proceesed folder\n",
    "proceesed_path = rf'C:\\Niloofar\\SCR\\posture-prediction-models-main\\external_data_processing\\final_data'\n",
    "\n",
    "\n",
    "test_pathes = []\n",
    "for i in test_sub:\n",
    "  test_pathes.append(os.path.join(proceesed_path, f's{i}'))\n",
    "\n",
    "path_to_subject_mean = os.path.join('C:/Niloofar/SCR/posture-prediction-models-main/data/mean-std_20_4_2025', 'mean.csv')\n",
    "path_to_subject_std = os.path.join('C:/Niloofar/SCR/posture-prediction-models-main/data/mean-std_20_4_2025', 'std.csv')\n",
    "path_to_subject_range = os.path.join(rf'C:\\Niloofar\\SCR\\posture-prediction-models-main\\data\\mean-std_20_4_2025', 'dif.csv')\n",
    "\n",
    "path_to_folder = r'C:\\Niloofar\\SCR\\posture-prediction-models-main\\models\\transformer_head'\n",
    "# path_to_outputs = rf'C:\\Niloofar\\SCR\\posture-prediction-models-main\\external_data_processing\\outputs'"
   ]
  },
  {
   "cell_type": "code",
   "execution_count": 7,
   "metadata": {
    "colab": {
     "base_uri": "https://localhost:8080/"
    },
    "executionInfo": {
     "elapsed": 3,
     "status": "ok",
     "timestamp": 1697963935322,
     "user": {
      "displayName": "Niloofar",
      "userId": "17604302765185403882"
     },
     "user_tz": -210
    },
    "id": "es3td_EMd6hA",
    "outputId": "dd145cda-6fd4-42aa-87e5-b1fcd9fa4346"
   },
   "outputs": [
    {
     "data": {
      "text/plain": [
       "['C:\\\\Niloofar\\\\SCR\\\\posture-prediction-models-main\\\\external_data_processing\\\\final_data\\\\s1',\n",
       " 'C:\\\\Niloofar\\\\SCR\\\\posture-prediction-models-main\\\\external_data_processing\\\\final_data\\\\s6',\n",
       " 'C:\\\\Niloofar\\\\SCR\\\\posture-prediction-models-main\\\\external_data_processing\\\\final_data\\\\s7',\n",
       " 'C:\\\\Niloofar\\\\SCR\\\\posture-prediction-models-main\\\\external_data_processing\\\\final_data\\\\s8',\n",
       " 'C:\\\\Niloofar\\\\SCR\\\\posture-prediction-models-main\\\\external_data_processing\\\\final_data\\\\s9']"
      ]
     },
     "execution_count": 7,
     "metadata": {},
     "output_type": "execute_result"
    }
   ],
   "source": [
    "test_pathes"
   ]
  },
  {
   "cell_type": "code",
   "execution_count": 19,
   "metadata": {
    "colab": {
     "base_uri": "https://localhost:8080/"
    },
    "executionInfo": {
     "elapsed": 30605,
     "status": "ok",
     "timestamp": 1697963965925,
     "user": {
      "displayName": "Niloofar",
      "userId": "17604302765185403882"
     },
     "user_tz": -210
    },
    "id": "5YsBLjLwnXPG",
    "outputId": "4918a988-c133-4d27-d5cf-86d5c1b9261b"
   },
   "outputs": [],
   "source": [
    "Val_List = []\n",
    "Test_List = []\n",
    "Test_1_List = []\n",
    "Test_2_List = []\n",
    "Test_3_List = []\n",
    "Test_4_List = []\n",
    "Test_5_List = []\n",
    "my_path_list = []\n",
    "\n",
    "# for val_path in val_pathes:\n",
    "#   test_ls, segment_len, _ = read_test(val_path, body_segment_name)\n",
    "#   Val_List.extend(test_ls)\n",
    "\n",
    "# print(len(test_ls), test_ls[0].shape)\n",
    "\n",
    "for test_path in test_pathes:\n",
    "  test_ls, segment_len, my_pth_ls = read_test(test_path, body_segment_name)\n",
    "  my_path_list.extend(my_pth_ls)\n",
    "  Test_List.extend(test_ls)\n",
    "\n",
    "test_1_ls, _, _ = read_test(test_pathes[0], body_segment_name)\n",
    "Test_1_List.extend(test_1_ls)\n",
    "\n",
    "test_2_ls, _, _ = read_test(test_pathes[1], body_segment_name)\n",
    "Test_2_List.extend(test_2_ls)\n",
    "\n",
    "test_3_ls, _, _ = read_test(test_pathes[2], body_segment_name)\n",
    "Test_3_List.extend(test_3_ls)\n",
    "\n",
    "test_4_ls, _, _ = read_test(test_pathes[3], body_segment_name)\n",
    "Test_4_List.extend(test_4_ls)\n",
    "\n",
    "test_5_ls, _, _ = read_test(test_pathes[4], body_segment_name)\n",
    "Test_5_List.extend(test_5_ls)\n",
    "\n",
    "\n",
    "\n",
    "\n",
    "# print(len(test_ls), test_ls[0].shape, test_ls[0].shape)"
   ]
  },
  {
   "cell_type": "markdown",
   "metadata": {
    "id": "ryZ_Slwu47Ns"
   },
   "source": [
    "## Data Loader"
   ]
  },
  {
   "cell_type": "code",
   "execution_count": 9,
   "metadata": {
    "colab": {
     "base_uri": "https://localhost:8080/"
    },
    "executionInfo": {
     "elapsed": 6,
     "status": "ok",
     "timestamp": 1697963965925,
     "user": {
      "displayName": "Niloofar",
      "userId": "17604302765185403882"
     },
     "user_tz": -210
    },
    "id": "cC7adh9J-7QA",
    "outputId": "f77dfc16-ad99-4dbe-e654-36a0a84804bb"
   },
   "outputs": [
    {
     "name": "stdout",
     "output_type": "stream",
     "text": [
      "cpu\n"
     ]
    }
   ],
   "source": [
    "device = torch.device(\"cuda:0\" if torch.cuda.is_available() else \"cpu\")\n",
    "\n",
    "print(device)"
   ]
  },
  {
   "cell_type": "code",
   "execution_count": 10,
   "metadata": {
    "colab": {
     "base_uri": "https://localhost:8080/",
     "height": 245
    },
    "executionInfo": {
     "elapsed": 7846,
     "status": "error",
     "timestamp": 1697963973767,
     "user": {
      "displayName": "Niloofar",
      "userId": "17604302765185403882"
     },
     "user_tz": -210
    },
    "id": "apdZx3mG47Nw",
    "outputId": "ef46578e-3206-42bd-a06f-b5c198245552"
   },
   "outputs": [],
   "source": [
    "my_mean = pd.read_csv(path_to_subject_mean, header=None).iloc[:, segment_inds]\n",
    "my_std = pd.read_csv(path_to_subject_std, header=None).iloc[:, segment_inds]\n",
    "my_range = read_range(path_to_subject_range, segment_inds, device)\n",
    "\n",
    "denormalize_transform = Denormalizer(my_mean, my_std, predicted_frames, device)\n",
    "tot_denormalize_transform = Denormalizer(my_mean, my_std, 101, device)"
   ]
  },
  {
   "cell_type": "markdown",
   "metadata": {
    "id": "O-HSlN-F47N1"
   },
   "source": [
    "# Model Implementation"
   ]
  },
  {
   "cell_type": "code",
   "execution_count": 11,
   "metadata": {
    "executionInfo": {
     "elapsed": 3,
     "status": "ok",
     "timestamp": 1697963979998,
     "user": {
      "displayName": "Niloofar",
      "userId": "17604302765185403882"
     },
     "user_tz": -210
    },
    "id": "CQoI6cxcHLFB"
   },
   "outputs": [],
   "source": [
    "class TransformerBased(nn.Module):\n",
    "  def __init__(self, in_ftrs, d_model=64, num_head=8, num_feed_forward=2048, drop_trans=0.2, enc_num_layers=1, dec_num_layers=1, drop_fc=0.01, out_neurons=100):\n",
    "    super(TransformerBased, self).__init__()\n",
    "    self.in_ftrs = in_ftrs\n",
    "    self.d_model = d_model\n",
    "    self.out_neurons = out_neurons\n",
    "\n",
    "    self.dim_expander = nn.Linear(self.in_ftrs, self.d_model)\n",
    "\n",
    "    self.p_enc = Summer(PositionalEncoding1D(self.d_model))\n",
    "\n",
    "    self.encoder = nn.TransformerEncoder(nn.TransformerEncoderLayer(d_model=d_model, nhead=num_head,\n",
    "                                                    dim_feedforward=num_feed_forward,\n",
    "                                                    dropout=drop_trans, batch_first=True),\n",
    "                                          num_layers=enc_num_layers)\n",
    "\n",
    "\n",
    "    self.decoder = nn.TransformerDecoder(nn.TransformerDecoderLayer(d_model=d_model, nhead=num_head,\n",
    "                                                     dim_feedforward=num_feed_forward,\n",
    "                                                     dropout=drop_trans, batch_first=True),\n",
    "                          num_layers=dec_num_layers)\n",
    "\n",
    "    self.fc = nn.Sequential(nn.Linear(self.d_model, self.out_neurons),\n",
    "                            nn.ReLU(),\n",
    "                            nn.Dropout(drop_fc),\n",
    "                            nn.Linear(self.out_neurons, self.in_ftrs-7))\n",
    "\n",
    "  def forward(self, src):\n",
    "    tgt = src[:, -1, :].unsqueeze(1)\n",
    "    src = self.dim_expander(src)\n",
    "    tgt = self.dim_expander(tgt)\n",
    "    src = self.p_enc(src)\n",
    "    tgt = self.p_enc(tgt)\n",
    "    encoded = self.encoder(src)\n",
    "    out = self.decoder(tgt, encoded)\n",
    "    out = self.fc(out)\n",
    "    return out\n"
   ]
  },
  {
   "cell_type": "code",
   "execution_count": 12,
   "metadata": {
    "colab": {
     "base_uri": "https://localhost:8080/"
    },
    "executionInfo": {
     "elapsed": 15,
     "status": "ok",
     "timestamp": 1697878809440,
     "user": {
      "displayName": "Niloofar",
      "userId": "17604302765185403882"
     },
     "user_tz": -210
    },
    "id": "Ffkja5Hi47N2",
    "outputId": "e2f3df41-e6b5-4c04-9a9e-9f6c3e358072"
   },
   "outputs": [
    {
     "data": {
      "text/plain": [
       "TransformerBased(\n",
       "  (dim_expander): Linear(in_features=19, out_features=96, bias=True)\n",
       "  (p_enc): Summer(\n",
       "    (penc): PositionalEncoding1D()\n",
       "  )\n",
       "  (encoder): TransformerEncoder(\n",
       "    (layers): ModuleList(\n",
       "      (0): TransformerEncoderLayer(\n",
       "        (self_attn): MultiheadAttention(\n",
       "          (out_proj): NonDynamicallyQuantizableLinear(in_features=96, out_features=96, bias=True)\n",
       "        )\n",
       "        (linear1): Linear(in_features=96, out_features=512, bias=True)\n",
       "        (dropout): Dropout(p=0.25, inplace=False)\n",
       "        (linear2): Linear(in_features=512, out_features=96, bias=True)\n",
       "        (norm1): LayerNorm((96,), eps=1e-05, elementwise_affine=True)\n",
       "        (norm2): LayerNorm((96,), eps=1e-05, elementwise_affine=True)\n",
       "        (dropout1): Dropout(p=0.25, inplace=False)\n",
       "        (dropout2): Dropout(p=0.25, inplace=False)\n",
       "      )\n",
       "    )\n",
       "  )\n",
       "  (decoder): TransformerDecoder(\n",
       "    (layers): ModuleList(\n",
       "      (0-2): 3 x TransformerDecoderLayer(\n",
       "        (self_attn): MultiheadAttention(\n",
       "          (out_proj): NonDynamicallyQuantizableLinear(in_features=96, out_features=96, bias=True)\n",
       "        )\n",
       "        (multihead_attn): MultiheadAttention(\n",
       "          (out_proj): NonDynamicallyQuantizableLinear(in_features=96, out_features=96, bias=True)\n",
       "        )\n",
       "        (linear1): Linear(in_features=96, out_features=512, bias=True)\n",
       "        (dropout): Dropout(p=0.25, inplace=False)\n",
       "        (linear2): Linear(in_features=512, out_features=96, bias=True)\n",
       "        (norm1): LayerNorm((96,), eps=1e-05, elementwise_affine=True)\n",
       "        (norm2): LayerNorm((96,), eps=1e-05, elementwise_affine=True)\n",
       "        (norm3): LayerNorm((96,), eps=1e-05, elementwise_affine=True)\n",
       "        (dropout1): Dropout(p=0.25, inplace=False)\n",
       "        (dropout2): Dropout(p=0.25, inplace=False)\n",
       "        (dropout3): Dropout(p=0.25, inplace=False)\n",
       "      )\n",
       "    )\n",
       "  )\n",
       "  (fc): Sequential(\n",
       "    (0): Linear(in_features=96, out_features=64, bias=True)\n",
       "    (1): ReLU()\n",
       "    (2): Dropout(p=0, inplace=False)\n",
       "    (3): Linear(in_features=64, out_features=12, bias=True)\n",
       "  )\n",
       ")"
      ]
     },
     "execution_count": 12,
     "metadata": {},
     "output_type": "execute_result"
    }
   ],
   "source": [
    "model = TransformerBased(19, d_model=96, num_head=16, num_feed_forward=512, drop_trans=0.25, enc_num_layers=1, dec_num_layers=3, drop_fc=0, out_neurons=64)\n",
    "\n",
    "\n",
    "model.to(device)"
   ]
  },
  {
   "cell_type": "code",
   "execution_count": 13,
   "metadata": {
    "colab": {
     "base_uri": "https://localhost:8080/"
    },
    "executionInfo": {
     "elapsed": 13,
     "status": "ok",
     "timestamp": 1697878809440,
     "user": {
      "displayName": "Niloofar",
      "userId": "17604302765185403882"
     },
     "user_tz": -210
    },
    "id": "ZbftCHfU47N2",
    "outputId": "e651ae09-9d3b-482a-ee35-d2c7732ae21d"
   },
   "outputs": [
    {
     "data": {
      "text/plain": [
       "667404"
      ]
     },
     "execution_count": 13,
     "metadata": {},
     "output_type": "execute_result"
    }
   ],
   "source": [
    "count_parameters(model)"
   ]
  },
  {
   "cell_type": "markdown",
   "metadata": {
    "id": "kf-x7YMz47N6"
   },
   "source": [
    "# Best MSE\n"
   ]
  },
  {
   "cell_type": "code",
   "execution_count": 14,
   "metadata": {
    "colab": {
     "base_uri": "https://localhost:8080/"
    },
    "executionInfo": {
     "elapsed": 509,
     "status": "ok",
     "timestamp": 1697963985206,
     "user": {
      "displayName": "Niloofar",
      "userId": "17604302765185403882"
     },
     "user_tz": -210
    },
    "id": "dCVE8pDsigtK",
    "outputId": "d7a779b1-013b-43d7-c61c-cc4bd57b1248"
   },
   "outputs": [
    {
     "name": "stderr",
     "output_type": "stream",
     "text": [
      "C:\\Users\\Remote\\AppData\\Local\\Temp\\ipykernel_17232\\4030156936.py:6: FutureWarning: You are using `torch.load` with `weights_only=False` (the current default value), which uses the default pickle module implicitly. It is possible to construct malicious pickle data which will execute arbitrary code during unpickling (See https://github.com/pytorch/pytorch/blob/main/SECURITY.md#untrusted-models for more details). In a future release, the default value for `weights_only` will be flipped to `True`. This limits the functions that could be executed during unpickling. Arbitrary objects will no longer be allowed to be loaded via this mode unless they are explicitly allowlisted by the user via `torch.serialization.add_safe_globals`. We recommend you start setting `weights_only=True` for any use case where you don't have full control of the loaded file. Please open an issue on GitHub for any issues related to this experimental feature.\n",
      "  model.load_state_dict(torch.load(os.path.join(path_to_folder, \"last_model_params.pt\"), map_location=torch.device('cpu')))\n"
     ]
    },
    {
     "data": {
      "text/plain": [
       "TransformerBased(\n",
       "  (dim_expander): Linear(in_features=19, out_features=96, bias=True)\n",
       "  (p_enc): Summer(\n",
       "    (penc): PositionalEncoding1D()\n",
       "  )\n",
       "  (encoder): TransformerEncoder(\n",
       "    (layers): ModuleList(\n",
       "      (0): TransformerEncoderLayer(\n",
       "        (self_attn): MultiheadAttention(\n",
       "          (out_proj): NonDynamicallyQuantizableLinear(in_features=96, out_features=96, bias=True)\n",
       "        )\n",
       "        (linear1): Linear(in_features=96, out_features=512, bias=True)\n",
       "        (dropout): Dropout(p=0.25, inplace=False)\n",
       "        (linear2): Linear(in_features=512, out_features=96, bias=True)\n",
       "        (norm1): LayerNorm((96,), eps=1e-05, elementwise_affine=True)\n",
       "        (norm2): LayerNorm((96,), eps=1e-05, elementwise_affine=True)\n",
       "        (dropout1): Dropout(p=0.25, inplace=False)\n",
       "        (dropout2): Dropout(p=0.25, inplace=False)\n",
       "      )\n",
       "    )\n",
       "  )\n",
       "  (decoder): TransformerDecoder(\n",
       "    (layers): ModuleList(\n",
       "      (0-2): 3 x TransformerDecoderLayer(\n",
       "        (self_attn): MultiheadAttention(\n",
       "          (out_proj): NonDynamicallyQuantizableLinear(in_features=96, out_features=96, bias=True)\n",
       "        )\n",
       "        (multihead_attn): MultiheadAttention(\n",
       "          (out_proj): NonDynamicallyQuantizableLinear(in_features=96, out_features=96, bias=True)\n",
       "        )\n",
       "        (linear1): Linear(in_features=96, out_features=512, bias=True)\n",
       "        (dropout): Dropout(p=0.25, inplace=False)\n",
       "        (linear2): Linear(in_features=512, out_features=96, bias=True)\n",
       "        (norm1): LayerNorm((96,), eps=1e-05, elementwise_affine=True)\n",
       "        (norm2): LayerNorm((96,), eps=1e-05, elementwise_affine=True)\n",
       "        (norm3): LayerNorm((96,), eps=1e-05, elementwise_affine=True)\n",
       "        (dropout1): Dropout(p=0.25, inplace=False)\n",
       "        (dropout2): Dropout(p=0.25, inplace=False)\n",
       "        (dropout3): Dropout(p=0.25, inplace=False)\n",
       "      )\n",
       "    )\n",
       "  )\n",
       "  (fc): Sequential(\n",
       "    (0): Linear(in_features=96, out_features=64, bias=True)\n",
       "    (1): ReLU()\n",
       "    (2): Dropout(p=0, inplace=False)\n",
       "    (3): Linear(in_features=64, out_features=12, bias=True)\n",
       "  )\n",
       ")"
      ]
     },
     "execution_count": 14,
     "metadata": {},
     "output_type": "execute_result"
    }
   ],
   "source": [
    "# Load best val model\n",
    "model = TransformerBased(19, d_model=96, num_head=16, num_feed_forward=512, drop_trans=0.25, enc_num_layers=1, dec_num_layers=3, drop_fc=0, out_neurons=64)\n",
    "\n",
    "\n",
    "model.to(device)\n",
    "model.load_state_dict(torch.load(os.path.join(path_to_folder, \"last_model_params.pt\"), map_location=torch.device('cpu')))\n",
    "model.eval()"
   ]
  },
  {
   "cell_type": "code",
   "execution_count": 15,
   "metadata": {
    "id": "m6-dha6QBJ7S"
   },
   "outputs": [],
   "source": [
    "i = 0\n",
    "L_tar = torch.zeros(101*len(Test_List), segment_len)\n",
    "L_pred = torch.zeros(101*len(Test_List), segment_len)\n",
    "for j in range(len(Test_List)):\n",
    "    L_v_tar, L_v_pred = L_Pred(Test_List, j, model, tot_denormalize_transform, input_frames, predicted_frames, segment_len, device)\n",
    "    L_tar[0+i:101+i, :] = L_v_tar\n",
    "    L_pred[0+i:101+i, :] = L_v_pred\n",
    "    i = i + 101"
   ]
  },
  {
   "cell_type": "code",
   "execution_count": 16,
   "metadata": {
    "colab": {
     "base_uri": "https://localhost:8080/"
    },
    "executionInfo": {
     "elapsed": 18,
     "status": "ok",
     "timestamp": 1697878963389,
     "user": {
      "displayName": "Niloofar",
      "userId": "17604302765185403882"
     },
     "user_tz": -210
    },
    "id": "mqJ3n6fLwkqF",
    "outputId": "4fcbc482-e2bb-4bbe-d857-46b343afa3df"
   },
   "outputs": [
    {
     "name": "stdout",
     "output_type": "stream",
     "text": [
      "RMSE: 164.71888732910156, nRMSE: 0.16206903095426745, r2: 0.9459749846595908\n"
     ]
    }
   ],
   "source": [
    "RMSE_loss = RMSE_compute(L_tar, L_pred, Test_List, input_frames, segment_len, device)\n",
    "nRMSE_loss = nRMSE_compute(L_tar, L_pred, my_range, Test_List, input_frames, segment_len, device)\n",
    "r2_m = r2_compute(L_tar, L_pred)\n",
    "print(f'RMSE: {RMSE_loss}, nRMSE: {nRMSE_loss}, r2: {r2_m}')"
   ]
  },
  {
   "cell_type": "code",
   "execution_count": 17,
   "metadata": {},
   "outputs": [],
   "source": [
    "def SubjectRMSECalculator(Test_sub_List, segment_len, model, tot_denormalize_transform, input_frames\n",
    "                          , predicted_frames, device, ):\n",
    "    i = 0\n",
    "    L_tar = torch.zeros(101*len(Test_sub_List), segment_len)\n",
    "    L_pred = torch.zeros(101*len(Test_sub_List), segment_len)\n",
    "    for j in range(len(Test_sub_List)):\n",
    "        L_v_tar, L_v_pred = L_Pred(Test_sub_List, j, model, tot_denormalize_transform, input_frames, predicted_frames, segment_len, device)\n",
    "        L_tar[0+i:101+i, :] = L_v_tar\n",
    "        L_pred[0+i:101+i, :] = L_v_pred\n",
    "        i = i + 101\n",
    "\n",
    "    RMSE_loss = RMSE_compute(L_tar, L_pred, Test_sub_List, input_frames, segment_len, device)\n",
    "    nRMSE_loss = nRMSE_compute(L_tar, L_pred, my_range, Test_sub_List, input_frames, segment_len, device)\n",
    "    r2_m = r2_compute(L_tar, L_pred)\n",
    "    print(f'RMSE: {RMSE_loss}, nRMSE: {nRMSE_loss}, r2: {r2_m}')"
   ]
  },
  {
   "cell_type": "markdown",
   "metadata": {},
   "source": [
    "### One test subject: test subject 1"
   ]
  },
  {
   "cell_type": "code",
   "execution_count": 20,
   "metadata": {},
   "outputs": [
    {
     "name": "stdout",
     "output_type": "stream",
     "text": [
      "RMSE: 111.05299377441406, nRMSE: 0.08309158628538607, r2: 0.9729153882930232\n"
     ]
    }
   ],
   "source": [
    "SubjectRMSECalculator(Test_1_List, segment_len, model, tot_denormalize_transform, input_frames\n",
    "                          , predicted_frames, device, )"
   ]
  },
  {
   "cell_type": "markdown",
   "metadata": {},
   "source": [
    "### One test subject: test subject 6"
   ]
  },
  {
   "cell_type": "code",
   "execution_count": 21,
   "metadata": {},
   "outputs": [
    {
     "name": "stdout",
     "output_type": "stream",
     "text": [
      "RMSE: 167.12022399902344, nRMSE: 0.18088839858692252, r2: 0.9438323180748834\n"
     ]
    }
   ],
   "source": [
    "SubjectRMSECalculator(Test_2_List, segment_len, model, tot_denormalize_transform, input_frames\n",
    "                          , predicted_frames, device, )"
   ]
  },
  {
   "cell_type": "markdown",
   "metadata": {},
   "source": [
    "### One test subject: test subject 7"
   ]
  },
  {
   "cell_type": "code",
   "execution_count": 22,
   "metadata": {},
   "outputs": [
    {
     "name": "stdout",
     "output_type": "stream",
     "text": [
      "RMSE: 249.64776611328125, nRMSE: 0.23176444457054088, r2: 0.8887332737674094\n"
     ]
    }
   ],
   "source": [
    "SubjectRMSECalculator(Test_3_List, segment_len, model, tot_denormalize_transform, input_frames\n",
    "                          , predicted_frames, device, )"
   ]
  },
  {
   "cell_type": "markdown",
   "metadata": {},
   "source": [
    "### One test subject: test subject 8"
   ]
  },
  {
   "cell_type": "code",
   "execution_count": 23,
   "metadata": {},
   "outputs": [
    {
     "name": "stdout",
     "output_type": "stream",
     "text": [
      "RMSE: 162.075927734375, nRMSE: 0.1766833738167448, r2: 0.9495721145020484\n"
     ]
    }
   ],
   "source": [
    "SubjectRMSECalculator(Test_4_List, segment_len, model, tot_denormalize_transform, input_frames\n",
    "                          , predicted_frames, device, )"
   ]
  },
  {
   "cell_type": "markdown",
   "metadata": {},
   "source": [
    "### One test subject: test subject 9"
   ]
  },
  {
   "cell_type": "code",
   "execution_count": 24,
   "metadata": {},
   "outputs": [
    {
     "name": "stdout",
     "output_type": "stream",
     "text": [
      "RMSE: 78.48548126220703, nRMSE: 0.06837333841908574, r2: 0.9867632502890428\n"
     ]
    }
   ],
   "source": [
    "SubjectRMSECalculator(Test_5_List, segment_len, model, tot_denormalize_transform, input_frames\n",
    "                          , predicted_frames, device, )"
   ]
  },
  {
   "cell_type": "code",
   "execution_count": 18,
   "metadata": {
    "executionInfo": {
     "elapsed": 3391,
     "status": "ok",
     "timestamp": 1697963991781,
     "user": {
      "displayName": "Niloofar",
      "userId": "17604302765185403882"
     },
     "user_tz": -210
    },
    "id": "1O5ft_3ikjTO"
   },
   "outputs": [],
   "source": [
    "L_v_tar, L_v_pred = L_Pred(Test_List, 5, model, tot_denormalize_transform, input_frames, predicted_frames, segment_len, device)"
   ]
  },
  {
   "cell_type": "code",
   "execution_count": 19,
   "metadata": {
    "colab": {
     "base_uri": "https://localhost:8080/",
     "height": 338
    },
    "executionInfo": {
     "elapsed": 2119,
     "status": "ok",
     "timestamp": 1697963993898,
     "user": {
      "displayName": "Niloofar",
      "userId": "17604302765185403882"
     },
     "user_tz": -210
    },
    "id": "hhvmWr3iko5n",
    "outputId": "3e9fdb2f-cfba-49c3-ecba-795ebdb4dd6c"
   },
   "outputs": [
    {
     "data": {
      "image/png": "[encoded data removed]",
      "text/plain": [
       "<Figure size 1500x1500 with 12 Axes>"
      ]
     },
     "metadata": {},
     "output_type": "display_data"
    }
   ],
   "source": [
    "plt.figure(figsize=(15, 15))\n",
    "for i in range(L_v_tar.shape[2]):\n",
    "  plt.subplot(7, 7, i+1)\n",
    "  plt.plot(L_v_pred.squeeze().detach().cpu()[:, i], '-o', label='forecast prediction')\n",
    "  plt.plot(L_v_tar.squeeze().detach().cpu()[:, i],'-^', label='forecast target' )\n",
    "plt.savefig(\"output.png\")"
   ]
  },
  {
   "cell_type": "code",
   "execution_count": null,
   "metadata": {
    "executionInfo": {
     "elapsed": 3,
     "status": "ok",
     "timestamp": 1697964004650,
     "user": {
      "displayName": "Niloofar",
      "userId": "17604302765185403882"
     },
     "user_tz": -210
    },
    "id": "Hiyay1jWzodE"
   },
   "outputs": [],
   "source": [
    "tartar = pd.DataFrame(L_v_tar.cpu().squeeze())"
   ]
  },
  {
   "cell_type": "code",
   "execution_count": 20,
   "metadata": {
    "executionInfo": {
     "elapsed": 1,
     "status": "ok",
     "timestamp": 1697964005026,
     "user": {
      "displayName": "Niloofar",
      "userId": "17604302765185403882"
     },
     "user_tz": -210
    },
    "id": "mpVdO9mC1I4P"
   },
   "outputs": [
    {
     "ename": "NameError",
     "evalue": "name 'tartar' is not defined",
     "output_type": "error",
     "traceback": [
      "\u001b[1;31m---------------------------------------------------------------------------\u001b[0m",
      "\u001b[1;31mNameError\u001b[0m                                 Traceback (most recent call last)",
      "Cell \u001b[1;32mIn[20], line 1\u001b[0m\n\u001b[1;32m----> 1\u001b[0m \u001b[43mtartar\u001b[49m\u001b[38;5;241m.\u001b[39mto_csv(\u001b[38;5;124m'\u001b[39m\u001b[38;5;124mtar_Head.csv\u001b[39m\u001b[38;5;124m'\u001b[39m)\n",
      "\u001b[1;31mNameError\u001b[0m: name 'tartar' is not defined"
     ]
    }
   ],
   "source": [
    "tartar.to_csv('tar_Head.csv')"
   ]
  },
  {
   "cell_type": "code",
   "execution_count": 26,
   "metadata": {
    "executionInfo": {
     "elapsed": 2,
     "status": "ok",
     "timestamp": 1697964005389,
     "user": {
      "displayName": "Niloofar",
      "userId": "17604302765185403882"
     },
     "user_tz": -210
    },
    "id": "Cp5TcdZV1RUf"
   },
   "outputs": [],
   "source": [
    "per = pd.DataFrame(L_v_pred.cpu().squeeze())"
   ]
  },
  {
   "cell_type": "code",
   "execution_count": 27,
   "metadata": {
    "executionInfo": {
     "elapsed": 2,
     "status": "ok",
     "timestamp": 1697964005761,
     "user": {
      "displayName": "Niloofar",
      "userId": "17604302765185403882"
     },
     "user_tz": -210
    },
    "id": "gqQyI5dW1Zto"
   },
   "outputs": [],
   "source": [
    "per.to_csv('per.Head.csv')"
   ]
  },
  {
   "cell_type": "code",
   "execution_count": null,
   "metadata": {
    "id": "g7Mi6McS1dDs"
   },
   "outputs": [],
   "source": []
  }
 ],
 "metadata": {
  "accelerator": "GPU",
  "colab": {
   "collapsed_sections": [
    "jST4Us3t1l41",
    "437VYG2yJkqK"
   ],
   "gpuType": "T4",
   "provenance": []
  },
  "kernelspec": {
   "display_name": "Niloo_Proj",
   "language": "python",
   "name": "python3"
  },
  "language_info": {
   "codemirror_mode": {
    "name": "ipython",
    "version": 3
   },
   "file_extension": ".py",
   "mimetype": "text/x-python",
   "name": "python",
   "nbconvert_exporter": "python",
   "pygments_lexer": "ipython3",
   "version": "3.9.21"
  }
 },
 "nbformat": 4,
 "nbformat_minor": 0
}
