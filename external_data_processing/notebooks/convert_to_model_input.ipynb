{
 "cells": [
  {
   "cell_type": "code",
   "execution_count": 1,
   "id": "496b03e2",
   "metadata": {},
   "outputs": [],
   "source": [
    "import pandas as pd\n",
    "import numpy as np\n",
    "import os\n",
    "import re"
   ]
  },
  {
   "cell_type": "code",
   "execution_count": null,
   "id": "ac2b795c",
   "metadata": {},
   "outputs": [],
   "source": [
    "path_to_processed_data = r'C:\\Niloofar\\SCR\\posture-prediction-models-main\\external_data_processing\\processed'\n",
    "path_to_converted_data = r'C:\\Niloofar\\SCR\\posture-prediction-models-main\\external_data_processing\\converted_data\\s6'"
   ]
  },
  {
   "cell_type": "code",
   "execution_count": 3,
   "id": "836d3c0c",
   "metadata": {},
   "outputs": [],
   "source": [
    "column_names = ['LFHD', 'RFHD', 'LBHD', 'RBHD', \n",
    "                'C7', 'T10', 'CLAV', 'STRN',\n",
    "                'RBAK', 'T12', 'S1', 'LSHO',\n",
    "                'LUPA', 'LELB', 'LFRM', 'LWRA',\n",
    "                'LWRB', 'LFIN', 'RSHO', 'RUPA',\n",
    "                'RELB', 'RFRM', 'RWRA', 'RWRB',\n",
    "                'RFIN', 'LASI', 'RASI', 'LPSA',\n",
    "                'RPSI', 'LTHI', 'LKNE', 'LTIB', \n",
    "                'LANK', 'LHEE', 'LTOE', 'RTHI',\n",
    "                'RKNE', 'RTIB', 'RANK', 'RHEE',\n",
    "                'RTOE', ]"
   ]
  },
  {
   "cell_type": "code",
   "execution_count": 4,
   "id": "c1caf4d1",
   "metadata": {},
   "outputs": [],
   "source": [
    "for item in os.listdir(path_to_processed_data):\n",
    "    df = pd.read_csv(os.path.join(path_to_processed_data, item))\n",
    "    # Convert the DataFrame to numpy array for easier reshaping\n",
    "    data_array = df.to_numpy()\n",
    "\n",
    "    # Separate x, y, z coordinates\n",
    "    num_markers = 41\n",
    "    num_frames = 101\n",
    "\n",
    "    # Extract X, Y, Z segments\n",
    "    x_coords = data_array[:, :num_markers]\n",
    "    y_coords = data_array[:, num_markers:num_markers*2]\n",
    "    z_coords = data_array[:, num_markers*2:]\n",
    "\n",
    "    # Initialize the new array (303 rows: 3 rows per frame, 41 columns: markers)\n",
    "    reshaped_data = np.zeros((num_frames * 3, num_markers))\n",
    "\n",
    "   \n",
    "\n",
    "    # Fill the reshaped_data array\n",
    "    for i in range(num_frames):\n",
    "        reshaped_data[i*3] = x_coords[i]    # x coordinates\n",
    "        reshaped_data[i*3 + 1] = y_coords[i]  # y coordinates\n",
    "        reshaped_data[i*3 + 2] = z_coords[i]  # z coordinates\n",
    "\n",
    "    # Convert the reshaped numpy array back to a DataFrame\n",
    "    reshaped_df = pd.DataFrame(reshaped_data, columns=column_names)\n",
    "\n",
    "    # Form last input column\n",
    "\n",
    "    W = 71\n",
    "    H = 170\n",
    "\n",
    "    match = re.search(r'technique_([^_]+)', item.split('.')[0])\n",
    "    if match.group(1) == 'stoop':\n",
    "        LT = 1\n",
    "\n",
    "    if match.group(1) == 'semi-squat':\n",
    "        LT = 2\n",
    "\n",
    "    if match.group(1) == 'full-squat':\n",
    "        LT = 3\n",
    "\n",
    "    if item.split('.')[0].split('_')[-1] == '2':\n",
    "        Load_X_Left = reshaped_df['LFIN'].iloc[-3]\n",
    "        Load_X_Right = reshaped_df['RFIN'].iloc[-3]\n",
    "        Load_X = (Load_X_Left + Load_X_Right) / 2\n",
    "\n",
    "        Load_Y_Left = reshaped_df['LFIN'].iloc[-2]\n",
    "        Load_Y_Right = reshaped_df['RFIN'].iloc[-2]\n",
    "        Load_Y = (Load_Y_Left + Load_Y_Right) / 2\n",
    "\n",
    "        Load_Z_Left = reshaped_df['LFIN'].iloc[-1]\n",
    "        Load_Z_Right = reshaped_df['RFIN'].iloc[-1]\n",
    "        Load_Z = (Load_Z_Left + Load_Z_Right) / 2\n",
    "\n",
    "        HT = 2\n",
    "\n",
    "       \n",
    "\n",
    "    if item.split('.')[0].split('_')[-1] == '1':\n",
    "        Load_X = reshaped_df['RFIN'].iloc[-3]\n",
    "        Load_Y = reshaped_df['RFIN'].iloc[-2]\n",
    "        Load_Z = reshaped_df['RFIN'].iloc[-1]\n",
    "    \n",
    "        HT = 1\n",
    "\n",
    "    last_column = pd.Series([Load_X, Load_Y, Load_Z, LT, HT, W, H], name='Input')\n",
    "    last_column = last_column.reindex(reshaped_df.index, fill_value=0)\n",
    "    reshaped_df.insert(len(reshaped_df.columns), last_column.name, last_column)\n",
    "\n",
    "    new_name = item.split('.')[0] + '_new.csv'\n",
    "    reshaped_df.to_csv(os.path.join(path_to_converted_data, new_name), index=False, header=False)\n",
    "\n",
    "    \n",
    "\n",
    "\n",
    "\n",
    "\n",
    "\n"
   ]
  },
  {
   "cell_type": "code",
   "execution_count": 5,
   "id": "8bca2875",
   "metadata": {},
   "outputs": [
    {
     "data": {
      "text/plain": [
       "'processed_L8_frames_4000-4280_technique_full-squat_hand_2'"
      ]
     },
     "execution_count": 5,
     "metadata": {},
     "output_type": "execute_result"
    }
   ],
   "source": [
    "item.split('.')[0]"
   ]
  },
  {
   "cell_type": "code",
   "execution_count": 6,
   "id": "4dc77baa",
   "metadata": {},
   "outputs": [
    {
     "data": {
      "text/plain": [
       "275.427246"
      ]
     },
     "execution_count": 6,
     "metadata": {},
     "output_type": "execute_result"
    }
   ],
   "source": [
    "reshaped_df['LFIN'].iloc[-1]"
   ]
  },
  {
   "cell_type": "code",
   "execution_count": 7,
   "id": "ec77e6a8",
   "metadata": {},
   "outputs": [
    {
     "data": {
      "text/plain": [
       "'full-squat'"
      ]
     },
     "execution_count": 7,
     "metadata": {},
     "output_type": "execute_result"
    }
   ],
   "source": [
    "\n",
    "match = re.search(r'technique_([^_]+)', item.split('.')[0])\n",
    "match.group(1)"
   ]
  },
  {
   "cell_type": "code",
   "execution_count": null,
   "id": "c959136b",
   "metadata": {},
   "outputs": [],
   "source": []
  }
 ],
 "metadata": {
  "kernelspec": {
   "display_name": "Niloo_Proj",
   "language": "python",
   "name": "python3"
  },
  "language_info": {
   "codemirror_mode": {
    "name": "ipython",
    "version": 3
   },
   "file_extension": ".py",
   "mimetype": "text/x-python",
   "name": "python",
   "nbconvert_exporter": "python",
   "pygments_lexer": "ipython3",
   "version": "3.9.21"
  }
 },
 "nbformat": 4,
 "nbformat_minor": 5
}
